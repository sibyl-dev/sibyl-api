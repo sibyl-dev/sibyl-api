{
 "cells": [
  {
   "cell_type": "code",
   "execution_count": 1,
   "metadata": {
    "collapsed": true,
    "ExecuteTime": {
     "end_time": "2023-07-27T14:45:57.865567600Z",
     "start_time": "2023-07-27T14:45:57.135942300Z"
    }
   },
   "outputs": [],
   "source": [
    "from sibyl.core import Sibyl\n",
    "from mongoengine import disconnect"
   ]
  },
  {
   "cell_type": "code",
   "execution_count": 2,
   "metadata": {
    "collapsed": false,
    "pycharm": {
     "name": "#%%\n"
    },
    "ExecuteTime": {
     "end_time": "2023-07-27T14:45:57.878087500Z",
     "start_time": "2023-07-27T14:45:57.865567600Z"
    }
   },
   "outputs": [],
   "source": [
    "database = \"housing\""
   ]
  },
  {
   "cell_type": "code",
   "execution_count": 3,
   "metadata": {
    "collapsed": false,
    "pycharm": {
     "name": "#%%\n"
    },
    "ExecuteTime": {
     "end_time": "2023-07-27T14:45:57.911618700Z",
     "start_time": "2023-07-27T14:45:57.880086700Z"
    }
   },
   "outputs": [],
   "source": [
    "disconnect()\n",
    "config = {\n",
    "    \"mongodb\": {\n",
    "        \"db\": database,\n",
    "        \"host\": \"localhost\",\n",
    "        \"port\": 27017,\n",
    "        \"username\": None,\n",
    "        \"password\": None,\n",
    "    },\n",
    "    \"log_filename\": \"test.csv\",\n",
    "    \"feature_distribution_location\": None,\n",
    "    \"flask\": {},\n",
    "}\n",
    "explorer = Sibyl(config, docker=False)\n",
    "app = explorer._init_flask_app(\"test\")\n",
    "client = app.test_client()"
   ]
  },
  {
   "cell_type": "code",
   "execution_count": 4,
   "metadata": {
    "collapsed": false,
    "pycharm": {
     "name": "#%%\n"
    },
    "ExecuteTime": {
     "end_time": "2023-07-27T14:45:58.083812900Z",
     "start_time": "2023-07-27T14:45:57.913130900Z"
    }
   },
   "outputs": [
    {
     "name": "stdout",
     "output_type": "stream",
     "text": [
      "Number of entities: 1456\n"
     ]
    }
   ],
   "source": [
    "# TEST ENTITY APIs\n",
    "eid = None\n",
    "\n",
    "response = client.get(\"/api/v1/entities/\")\n",
    "assert response.status_code == 200\n",
    "assert 'entities' in response.json\n",
    "print(\"Number of entities:\",   len(response.json['entities']))\n",
    "\n",
    "if eid is None:\n",
    "    eid = response.json[\"entities\"][0][\"eid\"]\n",
    "eids = [response.json[\"entities\"][i][\"eid\"] for i in range(0, 3)]\n",
    "\n",
    "response = client.get(\"/api/v1/entities/\" + eid + \"/\")\n",
    "assert response.status_code == 200\n",
    "assert response.json[\"eid\"] == eid\n",
    "assert \"features\" in response.json\n",
    "assert \"property\" in response.json\n",
    "sample_entity = response.json"
   ]
  },
  {
   "cell_type": "code",
   "execution_count": 5,
   "metadata": {
    "collapsed": false,
    "pycharm": {
     "name": "#%%\n"
    },
    "ExecuteTime": {
     "end_time": "2023-07-27T14:45:58.131866300Z",
     "start_time": "2023-07-27T14:45:58.086814800Z"
    }
   },
   "outputs": [
    {
     "name": "stdout",
     "output_type": "stream",
     "text": [
      "Number of features: 79\n",
      "Sample feature: {'name': 'MSSubClass', 'description': ' Identifies the type of dwelling involved in the sale.', 'type': 'category', 'negated_description': None, 'category': 'general'}\n",
      "Sample category {'name': 'general', 'color': None, 'abbreviation': None}\n"
     ]
    }
   ],
   "source": [
    "# TEST FEATURE APIs\n",
    "\n",
    "response = client.get(\"/api/v1/features/\")\n",
    "assert response.status_code == 200\n",
    "assert \"features\" in response.json\n",
    "print(\"Number of features:\", len(response.json[\"features\"]))\n",
    "sample_feature = response.json['features'][0]\n",
    "\n",
    "response = client.get(\"/api/v1/features/\" + sample_feature[\"name\"] + \"/\")\n",
    "assert response.status_code == 200\n",
    "assert \"name\" in response.json\n",
    "print(\"Sample feature:\", response.json)\n",
    "\n",
    "response = client.get(\"/api/v1/categories/\")\n",
    "assert response.status_code == 200\n",
    "assert \"categories\" in response.json\n",
    "print(\"Sample category\", response.json[\"categories\"][0])"
   ]
  },
  {
   "cell_type": "code",
   "execution_count": 6,
   "metadata": {
    "collapsed": false,
    "pycharm": {
     "name": "#%%\n"
    },
    "ExecuteTime": {
     "end_time": "2023-07-27T14:45:59.325268900Z",
     "start_time": "2023-07-27T14:45:58.133871900Z"
    }
   },
   "outputs": [
    {
     "name": "stdout",
     "output_type": "stream",
     "text": [
      "Number of models: 1\n",
      "Sample model: {'id': '64bfd7e219c8c8b9a6c20681', 'name': 'placeholder', 'description': 'placeholder', 'performance': 'placeholder'}\n",
      "Sample importance ('MSSubClass', 1858.1410859686669)\n",
      "Sample prediction: {'output': 136805.84817939164}\n"
     ]
    }
   ],
   "source": [
    "# TEST MODEL APIs\n",
    "response = client.get(\"/api/v1/models/\")\n",
    "assert response.status_code == 200\n",
    "print(\"Number of models:\", len(response.json[\"models\"]))\n",
    "sample_model = response.json[\"models\"][0]\n",
    "model_id = sample_model[\"id\"]\n",
    "\n",
    "response = client.get(\"/api/v1/models/\" + model_id + \"/\")\n",
    "assert response.status_code == 200\n",
    "print(\"Sample model:\", response.json)\n",
    "\n",
    "response = client.get(\"/api/v1/importance/?model_id=\" + model_id)\n",
    "assert response.status_code == 200\n",
    "assert \"importances\" in response.json\n",
    "print(\"Sample importance\", next(iter(response.json[\"importances\"].items())))\n",
    "\n",
    "response = client.get(\"/api/v1/prediction/?model_id=\" + model_id + \"&eid=\" + eid)\n",
    "assert response.status_code == 200\n",
    "print(\"Sample prediction:\", response.json)\n",
    "prediction = response.json[\"output\"]"
   ]
  },
  {
   "cell_type": "code",
   "execution_count": 7,
   "metadata": {
    "collapsed": false,
    "pycharm": {
     "name": "#%%\n"
    },
    "ExecuteTime": {
     "end_time": "2023-07-27T14:45:59.576263900Z",
     "start_time": "2023-07-27T14:45:59.328417600Z"
    }
   },
   "outputs": [
    {
     "name": "stdout",
     "output_type": "stream",
     "text": [
      "Sample contribution ('MSSubClass', 2400.5925430133325)\n",
      "Sample modified prediction: {'prediction': 183246.97016849724}\n",
      "Sample changes: [['MSSubClass', 183246.97016849724], ['MSZoning', 183246.97016849724]]\n"
     ]
    }
   ],
   "source": [
    "# TEST COMPUTING\n",
    "import pandas as pd\n",
    "\n",
    "response = client.post(\"/api/v1/contributions/\", json={\"eid\": eid, \"model_id\": model_id})\n",
    "assert response.status_code == 200\n",
    "assert \"contributions\" in response.json\n",
    "print(\"Sample contribution\", next(iter(response.json[\"contributions\"].items())))\n",
    "\n",
    "response = client.post(\"/api/v1/multi_contributions/\", json={\"eids\": eids, \"model_id\": model_id})\n",
    "assert response.status_code == 200\n",
    "assert \"contributions\" in response.json\n",
    "for eid in response.json[\"contributions\"]:\n",
    "    try:\n",
    "        pd.read_json(response.json[\"contributions\"][eid], orient=\"index\")\n",
    "    except Exception:\n",
    "        print(\"Error with multi-contributions - wrong format\")\n",
    "\n",
    "features_options = list(sample_entity[\"features\"].keys())\n",
    "changes = [(features_options[0], sample_entity[\"features\"][features_options[0]]),\n",
    "           (features_options[1], sample_entity[\"features\"][features_options[1]])]\n",
    "response = client.post(\"/api/v1/modified_prediction/\",json={\"eid\": eid, \"model_id\": model_id, \"changes\": changes})\n",
    "assert response.status_code == 200\n",
    "assert \"prediction\" in response.json\n",
    "print(\"Sample modified prediction:\", response.json)\n",
    "\n",
    "response = client.post(\"/api/v1/single_change_predictions/\", json={\"eid\": eid, \"model_id\": model_id, \"changes\": changes})\n",
    "assert response.status_code == 200\n",
    "assert \"changes\" in response.json\n",
    "print(\"Sample changes:\", response.json[\"changes\"])"
   ]
  },
  {
   "cell_type": "code",
   "execution_count": 8,
   "metadata": {
    "collapsed": false,
    "pycharm": {
     "name": "#%%\n"
    },
    "ExecuteTime": {
     "end_time": "2023-07-27T14:45:59.859285500Z",
     "start_time": "2023-07-27T14:45:59.575263900Z"
    }
   },
   "outputs": [
    {
     "name": "stdout",
     "output_type": "stream",
     "text": [
      "Sample similar entity:\n",
      "      MSSubClass MSZoning  LotFrontage  LotArea Street  Alley LotShape  \\\n",
      "0            20       RL           75     9937   Pave    NaN      Reg   \n",
      "202          20       RL           75    10125   Pave    NaN      Reg   \n",
      "562          20       RL           77    10010   Pave    NaN      Reg   \n",
      "\n",
      "    LandContour Utilities LotConfig  ... ScreenPorch PoolArea PoolQC  Fence  \\\n",
      "0           Lvl    AllPub    Inside  ...           0        0    NaN   None   \n",
      "202         Lvl    AllPub    Inside  ...           0        0    NaN  MnPrv   \n",
      "562         Lvl    AllPub    Inside  ...           0        0    NaN   None   \n",
      "\n",
      "    MiscFeature MiscVal  MoSold  YrSold  SaleType  SaleCondition  \n",
      "0           NaN       0       6    2008        WD         Normal  \n",
      "202         NaN       0       2    2008        WD         Normal  \n",
      "562         NaN       0       4    2006        WD         Normal  \n",
      "\n",
      "[3 rows x 79 columns]\n",
      "          0\n",
      "0    147500\n",
      "202  171500\n",
      "562  170000\n"
     ]
    }
   ],
   "source": [
    "# TEST COMPUTING - PART 2\n",
    "\n",
    "response = client.post(\"/api/v1/similar_entities/\", json={\"eids\": eids, \"model_id\": model_id})\n",
    "assert response.status_code == 200\n",
    "assert \"similar_entities\" in response.json\n",
    "print_flag = True\n",
    "for eid in response.json[\"similar_entities\"]:\n",
    "    assert \"X\" in response.json[\"similar_entities\"][eid]\n",
    "    try:\n",
    "        X = pd.read_json(response.json[\"similar_entities\"][eid][\"X\"], orient=\"index\").head()\n",
    "        if print_flag:\n",
    "            print(\"Sample similar entity:\\n\", X)\n",
    "    except Exception:\n",
    "        print(\"Error with similar entities - wrong X format\")\n",
    "    assert \"y\" in response.json[\"similar_entities\"][eid]\n",
    "    try:\n",
    "        y = pd.read_json(response.json[\"similar_entities\"][eid][\"y\"], orient=\"index\").head()\n",
    "        if print_flag:\n",
    "            print(y)\n",
    "            print_flag=False\n",
    "    except Exception:\n",
    "        print(\"Error with similar entities - wrong y format\")"
   ]
  },
  {
   "cell_type": "code",
   "execution_count": 8,
   "metadata": {
    "collapsed": false,
    "pycharm": {
     "name": "#%%\n"
    },
    "ExecuteTime": {
     "end_time": "2023-07-27T14:45:59.873303200Z",
     "start_time": "2023-07-27T14:45:59.858286300Z"
    }
   },
   "outputs": [],
   "source": []
  }
 ],
 "metadata": {
  "kernelspec": {
   "display_name": "Python 3",
   "language": "python",
   "name": "python3"
  },
  "language_info": {
   "codemirror_mode": {
    "name": "ipython",
    "version": 3
   },
   "file_extension": ".py",
   "mimetype": "text/x-python",
   "name": "python",
   "nbconvert_exporter": "python",
   "pygments_lexer": "ipython3",
   "version": "3.10.11"
  }
 },
 "nbformat": 4,
 "nbformat_minor": 0
}
