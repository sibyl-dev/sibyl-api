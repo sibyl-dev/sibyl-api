{
 "cells": [
  {
   "cell_type": "code",
   "execution_count": 1,
   "metadata": {
    "collapsed": true
   },
   "outputs": [],
   "source": [
    "from sibyl.core import Sibyl\n",
    "from mongoengine import disconnect"
   ]
  },
  {
   "cell_type": "code",
   "execution_count": 2,
   "outputs": [],
   "source": [
    "database = \"brakepad\""
   ],
   "metadata": {
    "collapsed": false,
    "pycharm": {
     "name": "#%%\n"
    }
   }
  },
  {
   "cell_type": "code",
   "execution_count": 3,
   "outputs": [],
   "source": [
    "disconnect()\n",
    "config = {\n",
    "    \"mongodb\": {\n",
    "        \"db\": database,\n",
    "        \"host\": \"localhost\",\n",
    "        \"port\": 27017,\n",
    "        \"username\": None,\n",
    "        \"password\": None,\n",
    "    },\n",
    "    \"log_filename\": \"test.csv\",\n",
    "    \"feature_distribution_location\": None,\n",
    "    \"flask\": {},\n",
    "}\n",
    "explorer = Sibyl(config, docker=False)\n",
    "app = explorer._init_flask_app(\"test\")\n",
    "client = app.test_client()"
   ],
   "metadata": {
    "collapsed": false,
    "pycharm": {
     "name": "#%%\n"
    }
   }
  },
  {
   "cell_type": "code",
   "execution_count": 4,
   "outputs": [
    {
     "name": "stdout",
     "output_type": "stream",
     "text": [
      "Number of entities: 2441\n"
     ]
    }
   ],
   "source": [
    "# TEST ENTITY APIs\n",
    "eid = None\n",
    "\n",
    "response = client.get(\"/api/v1/entities/\")\n",
    "assert response.status_code == 200\n",
    "assert 'entities' in response.json\n",
    "print(\"Number of entities:\",   len(response.json['entities']))\n",
    "\n",
    "if eid is None:\n",
    "    eid = response.json[\"entities\"][0][\"eid\"]\n",
    "eids = [response.json[\"entities\"][i][\"eid\"] for i in range(0, 3)]\n",
    "\n",
    "response = client.get(\"/api/v1/entities/\" + eid + \"/\")\n",
    "assert response.status_code == 200\n",
    "assert response.json[\"eid\"] == eid\n",
    "assert \"features\" in response.json\n",
    "assert \"property\" in response.json\n",
    "sample_entity = response.json"
   ],
   "metadata": {
    "collapsed": false,
    "pycharm": {
     "name": "#%%\n"
    }
   }
  },
  {
   "cell_type": "code",
   "execution_count": 5,
   "outputs": [
    {
     "name": "stdout",
     "output_type": "stream",
     "text": [
      "Number of features: 1459\n",
      "Sample feature: {'name': 'COUNT(scada)', 'description': 'The number of all instances of \"scada\" for each \"COD_ELEMENT\" in \"turbines\".', 'type': 'numeric', 'negated_description': None, 'category': 'all'}\n",
      "Sample category {'name': 'all', 'color': None, 'abbreviation': None}\n"
     ]
    }
   ],
   "source": [
    "# TEST FEATURE APIs\n",
    "\n",
    "response = client.get(\"/api/v1/features/\")\n",
    "assert response.status_code == 200\n",
    "assert \"features\" in response.json\n",
    "print(\"Number of features:\", len(response.json[\"features\"]))\n",
    "sample_feature = response.json['features'][0]\n",
    "\n",
    "response = client.get(\"/api/v1/features/\" + sample_feature[\"name\"] + \"/\")\n",
    "assert response.status_code == 200\n",
    "assert \"name\" in response.json\n",
    "print(\"Sample feature:\", response.json)\n",
    "\n",
    "response = client.get(\"/api/v1/categories/\")\n",
    "assert response.status_code == 200\n",
    "assert \"categories\" in response.json\n",
    "print(\"Sample category\", response.json[\"categories\"][0])"
   ],
   "metadata": {
    "collapsed": false,
    "pycharm": {
     "name": "#%%\n"
    }
   }
  },
  {
   "cell_type": "code",
   "execution_count": 6,
   "outputs": [
    {
     "name": "stdout",
     "output_type": "stream",
     "text": [
      "Number of models: 1\n",
      "Sample model: {'id': '649366f3f92feaf5d268eef0', 'name': 'placeholder', 'description': 'placeholder', 'performance': 'placeholder'}\n"
     ]
    },
    {
     "ename": "StopIteration",
     "evalue": "",
     "output_type": "error",
     "traceback": [
      "\u001B[1;31m---------------------------------------------------------------------------\u001B[0m",
      "\u001B[1;31mStopIteration\u001B[0m                             Traceback (most recent call last)",
      "Cell \u001B[1;32mIn[6], line 15\u001B[0m\n\u001B[0;32m     13\u001B[0m \u001B[38;5;28;01massert\u001B[39;00m response\u001B[38;5;241m.\u001B[39mstatus_code \u001B[38;5;241m==\u001B[39m \u001B[38;5;241m200\u001B[39m\n\u001B[0;32m     14\u001B[0m \u001B[38;5;28;01massert\u001B[39;00m \u001B[38;5;124m\"\u001B[39m\u001B[38;5;124mimportances\u001B[39m\u001B[38;5;124m\"\u001B[39m \u001B[38;5;129;01min\u001B[39;00m response\u001B[38;5;241m.\u001B[39mjson\n\u001B[1;32m---> 15\u001B[0m \u001B[38;5;28mprint\u001B[39m(\u001B[38;5;124m\"\u001B[39m\u001B[38;5;124mSample importance\u001B[39m\u001B[38;5;124m\"\u001B[39m, \u001B[38;5;28;43mnext\u001B[39;49m\u001B[43m(\u001B[49m\u001B[38;5;28;43miter\u001B[39;49m\u001B[43m(\u001B[49m\u001B[43mresponse\u001B[49m\u001B[38;5;241;43m.\u001B[39;49m\u001B[43mjson\u001B[49m\u001B[43m[\u001B[49m\u001B[38;5;124;43m\"\u001B[39;49m\u001B[38;5;124;43mimportances\u001B[39;49m\u001B[38;5;124;43m\"\u001B[39;49m\u001B[43m]\u001B[49m\u001B[38;5;241;43m.\u001B[39;49m\u001B[43mitems\u001B[49m\u001B[43m(\u001B[49m\u001B[43m)\u001B[49m\u001B[43m)\u001B[49m\u001B[43m)\u001B[49m)\n\u001B[0;32m     17\u001B[0m response \u001B[38;5;241m=\u001B[39m client\u001B[38;5;241m.\u001B[39mget(\u001B[38;5;124m\"\u001B[39m\u001B[38;5;124m/api/v1/prediction/?model_id=\u001B[39m\u001B[38;5;124m\"\u001B[39m \u001B[38;5;241m+\u001B[39m model_id \u001B[38;5;241m+\u001B[39m \u001B[38;5;124m\"\u001B[39m\u001B[38;5;124m&eid=\u001B[39m\u001B[38;5;124m\"\u001B[39m \u001B[38;5;241m+\u001B[39m eid)\n\u001B[0;32m     18\u001B[0m \u001B[38;5;28;01massert\u001B[39;00m response\u001B[38;5;241m.\u001B[39mstatus_code \u001B[38;5;241m==\u001B[39m \u001B[38;5;241m200\u001B[39m\n",
      "\u001B[1;31mStopIteration\u001B[0m: "
     ]
    }
   ],
   "source": [
    "# TEST MODEL APIs\n",
    "response = client.get(\"/api/v1/models/\")\n",
    "assert response.status_code == 200\n",
    "print(\"Number of models:\", len(response.json[\"models\"]))\n",
    "sample_model = response.json[\"models\"][0]\n",
    "model_id = sample_model[\"id\"]\n",
    "\n",
    "response = client.get(\"/api/v1/models/\" + model_id + \"/\")\n",
    "assert response.status_code == 200\n",
    "print(\"Sample model:\", response.json)\n",
    "\n",
    "response = client.get(\"/api/v1/importance/?model_id=\" + model_id)\n",
    "assert response.status_code == 200\n",
    "assert \"importances\" in response.json\n",
    "print(\"Sample importance\", next(iter(response.json[\"importances\"].items())))\n",
    "\n",
    "response = client.get(\"/api/v1/prediction/?model_id=\" + model_id + \"&eid=\" + eid)\n",
    "assert response.status_code == 200\n",
    "print(\"Sample prediction:\", response.json)\n",
    "prediction = response.json[\"output\"]"
   ],
   "metadata": {
    "collapsed": false,
    "pycharm": {
     "name": "#%%\n"
    }
   }
  },
  {
   "cell_type": "code",
   "execution_count": 7,
   "outputs": [
    {
     "name": "stdout",
     "output_type": "stream",
     "text": [
      "Sample contribution ('COUNT(scada)', 0.0)\n",
      "Sample modified prediction: {'prediction': 0}\n",
      "Sample changes: [['COUNT(scada)', 0], ['MAX(scada.WCNV_Torq_max)', 0]]\n"
     ]
    }
   ],
   "source": [
    "# TEST COMPUTING\n",
    "import pandas as pd\n",
    "\n",
    "response = client.post(\"/api/v1/contributions/\", json={\"eid\": eid, \"model_id\": model_id})\n",
    "assert response.status_code == 200\n",
    "assert \"contributions\" in response.json\n",
    "print(\"Sample contribution\", next(iter(response.json[\"contributions\"].items())))\n",
    "\n",
    "response = client.post(\"/api/v1/multi_contributions/\", json={\"eids\": eids, \"model_id\": model_id})\n",
    "assert response.status_code == 200\n",
    "assert \"contributions\" in response.json\n",
    "for eid in response.json[\"contributions\"]:\n",
    "    try:\n",
    "        pd.read_json(response.json[\"contributions\"][eid], orient=\"index\")\n",
    "    except Exception:\n",
    "        print(\"Error with multi-contributions - wrong format\")\n",
    "\n",
    "features_options = list(sample_entity[\"features\"].keys())\n",
    "changes = [(features_options[0], sample_entity[\"features\"][features_options[0]]),\n",
    "           (features_options[1], sample_entity[\"features\"][features_options[1]])]\n",
    "response = client.post(\"/api/v1/modified_prediction/\",json={\"eid\": eid, \"model_id\": model_id, \"changes\": changes})\n",
    "assert response.status_code == 200\n",
    "assert \"prediction\" in response.json\n",
    "print(\"Sample modified prediction:\", response.json)\n",
    "\n",
    "response = client.post(\"/api/v1/single_change_predictions/\", json={\"eid\": eid, \"model_id\": model_id, \"changes\": changes})\n",
    "assert response.status_code == 200\n",
    "assert \"changes\" in response.json\n",
    "print(\"Sample changes:\", response.json[\"changes\"])"
   ],
   "metadata": {
    "collapsed": false,
    "pycharm": {
     "name": "#%%\n"
    }
   }
  },
  {
   "cell_type": "code",
   "execution_count": null,
   "outputs": [],
   "source": [],
   "metadata": {
    "collapsed": false,
    "pycharm": {
     "name": "#%%\n"
    }
   }
  },
  {
   "cell_type": "code",
   "execution_count": null,
   "outputs": [],
   "source": [],
   "metadata": {
    "collapsed": false,
    "pycharm": {
     "name": "#%%\n"
    }
   }
  }
 ],
 "metadata": {
  "kernelspec": {
   "display_name": "Python 3",
   "language": "python",
   "name": "python3"
  },
  "language_info": {
   "codemirror_mode": {
    "name": "ipython",
    "version": 2
   },
   "file_extension": ".py",
   "mimetype": "text/x-python",
   "name": "python",
   "nbconvert_exporter": "python",
   "pygments_lexer": "ipython2",
   "version": "2.7.6"
  }
 },
 "nbformat": 4,
 "nbformat_minor": 0
}