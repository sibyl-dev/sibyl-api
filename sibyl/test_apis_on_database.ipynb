{
 "cells": [
  {
   "cell_type": "code",
   "execution_count": 9,
   "metadata": {
    "collapsed": true
   },
   "outputs": [],
   "source": [
    "from sibyl.core import Sibyl\n",
    "from mongoengine import disconnect"
   ]
  },
  {
   "cell_type": "code",
   "execution_count": 2,
   "outputs": [],
   "source": [
    "database = \"housing\""
   ],
   "metadata": {
    "collapsed": false,
    "pycharm": {
     "name": "#%%\n"
    }
   }
  },
  {
   "cell_type": "code",
   "execution_count": 3,
   "outputs": [],
   "source": [
    "disconnect()\n",
    "config = {\n",
    "    \"mongodb\": {\n",
    "        \"db\": database,\n",
    "        \"host\": \"localhost\",\n",
    "        \"port\": 27017,\n",
    "        \"username\": None,\n",
    "        \"password\": None,\n",
    "    },\n",
    "    \"log_filename\": \"test.csv\",\n",
    "    \"feature_distribution_location\": None,\n",
    "    \"flask\": {},\n",
    "}\n",
    "explorer = Sibyl(config, docker=False)\n",
    "app = explorer._init_flask_app(\"test\")\n",
    "client = app.test_client()"
   ],
   "metadata": {
    "collapsed": false,
    "pycharm": {
     "name": "#%%\n"
    }
   }
  },
  {
   "cell_type": "code",
   "execution_count": 4,
   "outputs": [
    {
     "name": "stdout",
     "output_type": "stream",
     "text": [
      "Number of entities: 1456\n"
     ]
    }
   ],
   "source": [
    "# TEST ENTITY APIs\n",
    "eid = None\n",
    "\n",
    "response = client.get(\"/api/v1/entities/\")\n",
    "assert response.status_code == 200\n",
    "assert 'entities' in response.json\n",
    "print(\"Number of entities:\",   len(response.json['entities']))\n",
    "\n",
    "if eid is None:\n",
    "    eid = response.json[\"entities\"][0][\"eid\"]\n",
    "eids = [response.json[\"entities\"][i][\"eid\"] for i in range(0, 3)]\n",
    "\n",
    "response = client.get(\"/api/v1/entities/\" + eid + \"/\")\n",
    "assert response.status_code == 200\n",
    "assert response.json[\"eid\"] == eid\n",
    "assert \"features\" in response.json\n",
    "assert \"property\" in response.json\n",
    "sample_entity = response.json"
   ],
   "metadata": {
    "collapsed": false,
    "pycharm": {
     "name": "#%%\n"
    }
   }
  },
  {
   "cell_type": "code",
   "execution_count": 5,
   "outputs": [
    {
     "name": "stdout",
     "output_type": "stream",
     "text": [
      "Number of features: 79\n",
      "Sample feature: {'name': 'MSSubClass', 'description': ' Identifies the type of dwelling involved in the sale.', 'type': 'category', 'negated_description': None, 'category': 'general'}\n",
      "Sample category {'name': 'general', 'color': None, 'abbreviation': None}\n"
     ]
    }
   ],
   "source": [
    "# TEST FEATURE APIs\n",
    "\n",
    "response = client.get(\"/api/v1/features/\")\n",
    "assert response.status_code == 200\n",
    "assert \"features\" in response.json\n",
    "print(\"Number of features:\", len(response.json[\"features\"]))\n",
    "sample_feature = response.json['features'][0]\n",
    "\n",
    "response = client.get(\"/api/v1/features/\" + sample_feature[\"name\"] + \"/\")\n",
    "assert response.status_code == 200\n",
    "assert \"name\" in response.json\n",
    "print(\"Sample feature:\", response.json)\n",
    "\n",
    "response = client.get(\"/api/v1/categories/\")\n",
    "assert response.status_code == 200\n",
    "assert \"categories\" in response.json\n",
    "print(\"Sample category\", response.json[\"categories\"][0])"
   ],
   "metadata": {
    "collapsed": false,
    "pycharm": {
     "name": "#%%\n"
    }
   }
  },
  {
   "cell_type": "code",
   "execution_count": 6,
   "outputs": [
    {
     "name": "stdout",
     "output_type": "stream",
     "text": [
      "Number of models: 1\n",
      "Sample model: {'id': '64936a20b11c4dec4d0c9144', 'name': 'placeholder', 'description': 'placeholder', 'performance': 'placeholder'}\n",
      "Sample importance ('MSSubClass', 1858.1410859686669)\n"
     ]
    },
    {
     "ename": "AttributeError",
     "evalue": "'OneHotEncoder' object has no attribute 'onehot_columns'",
     "output_type": "error",
     "traceback": [
      "\u001B[1;31m---------------------------------------------------------------------------\u001B[0m",
      "\u001B[1;31mAttributeError\u001B[0m                            Traceback (most recent call last)",
      "Cell \u001B[1;32mIn[6], line 17\u001B[0m\n\u001B[0;32m     14\u001B[0m \u001B[38;5;28;01massert\u001B[39;00m \u001B[38;5;124m\"\u001B[39m\u001B[38;5;124mimportances\u001B[39m\u001B[38;5;124m\"\u001B[39m \u001B[38;5;129;01min\u001B[39;00m response\u001B[38;5;241m.\u001B[39mjson\n\u001B[0;32m     15\u001B[0m \u001B[38;5;28mprint\u001B[39m(\u001B[38;5;124m\"\u001B[39m\u001B[38;5;124mSample importance\u001B[39m\u001B[38;5;124m\"\u001B[39m, \u001B[38;5;28mnext\u001B[39m(\u001B[38;5;28miter\u001B[39m(response\u001B[38;5;241m.\u001B[39mjson[\u001B[38;5;124m\"\u001B[39m\u001B[38;5;124mimportances\u001B[39m\u001B[38;5;124m\"\u001B[39m]\u001B[38;5;241m.\u001B[39mitems())))\n\u001B[1;32m---> 17\u001B[0m response \u001B[38;5;241m=\u001B[39m \u001B[43mclient\u001B[49m\u001B[38;5;241;43m.\u001B[39;49m\u001B[43mget\u001B[49m\u001B[43m(\u001B[49m\u001B[38;5;124;43m\"\u001B[39;49m\u001B[38;5;124;43m/api/v1/prediction/?model_id=\u001B[39;49m\u001B[38;5;124;43m\"\u001B[39;49m\u001B[43m \u001B[49m\u001B[38;5;241;43m+\u001B[39;49m\u001B[43m \u001B[49m\u001B[43mmodel_id\u001B[49m\u001B[43m \u001B[49m\u001B[38;5;241;43m+\u001B[39;49m\u001B[43m \u001B[49m\u001B[38;5;124;43m\"\u001B[39;49m\u001B[38;5;124;43m&eid=\u001B[39;49m\u001B[38;5;124;43m\"\u001B[39;49m\u001B[43m \u001B[49m\u001B[38;5;241;43m+\u001B[39;49m\u001B[43m \u001B[49m\u001B[43meid\u001B[49m\u001B[43m)\u001B[49m\n\u001B[0;32m     18\u001B[0m \u001B[38;5;28;01massert\u001B[39;00m response\u001B[38;5;241m.\u001B[39mstatus_code \u001B[38;5;241m==\u001B[39m \u001B[38;5;241m200\u001B[39m\n\u001B[0;32m     19\u001B[0m \u001B[38;5;28mprint\u001B[39m(\u001B[38;5;124m\"\u001B[39m\u001B[38;5;124mSample prediction:\u001B[39m\u001B[38;5;124m\"\u001B[39m, response\u001B[38;5;241m.\u001B[39mjson)\n",
      "File \u001B[1;32m~\\AppData\\Local\\pypoetry\\Cache\\virtualenvs\\sibylapi-37J3VntD-py3.8\\lib\\site-packages\\werkzeug\\test.py:1140\u001B[0m, in \u001B[0;36mClient.get\u001B[1;34m(self, *args, **kw)\u001B[0m\n\u001B[0;32m   1138\u001B[0m \u001B[38;5;250m\u001B[39m\u001B[38;5;124;03m\"\"\"Call :meth:`open` with ``method`` set to ``GET``.\"\"\"\u001B[39;00m\n\u001B[0;32m   1139\u001B[0m kw[\u001B[38;5;124m\"\u001B[39m\u001B[38;5;124mmethod\u001B[39m\u001B[38;5;124m\"\u001B[39m] \u001B[38;5;241m=\u001B[39m \u001B[38;5;124m\"\u001B[39m\u001B[38;5;124mGET\u001B[39m\u001B[38;5;124m\"\u001B[39m\n\u001B[1;32m-> 1140\u001B[0m \u001B[38;5;28;01mreturn\u001B[39;00m \u001B[38;5;28;43mself\u001B[39;49m\u001B[38;5;241;43m.\u001B[39;49m\u001B[43mopen\u001B[49m\u001B[43m(\u001B[49m\u001B[38;5;241;43m*\u001B[39;49m\u001B[43margs\u001B[49m\u001B[43m,\u001B[49m\u001B[43m \u001B[49m\u001B[38;5;241;43m*\u001B[39;49m\u001B[38;5;241;43m*\u001B[39;49m\u001B[43mkw\u001B[49m\u001B[43m)\u001B[49m\n",
      "File \u001B[1;32m~\\AppData\\Local\\pypoetry\\Cache\\virtualenvs\\sibylapi-37J3VntD-py3.8\\lib\\site-packages\\flask\\testing.py:223\u001B[0m, in \u001B[0;36mFlaskClient.open\u001B[1;34m(self, buffered, follow_redirects, *args, **kwargs)\u001B[0m\n\u001B[0;32m    218\u001B[0m \u001B[38;5;66;03m# Pop any previously preserved contexts. This prevents contexts\u001B[39;00m\n\u001B[0;32m    219\u001B[0m \u001B[38;5;66;03m# from being preserved across redirects or multiple requests\u001B[39;00m\n\u001B[0;32m    220\u001B[0m \u001B[38;5;66;03m# within a single block.\u001B[39;00m\n\u001B[0;32m    221\u001B[0m \u001B[38;5;28mself\u001B[39m\u001B[38;5;241m.\u001B[39m_context_stack\u001B[38;5;241m.\u001B[39mclose()\n\u001B[1;32m--> 223\u001B[0m response \u001B[38;5;241m=\u001B[39m \u001B[38;5;28;43msuper\u001B[39;49m\u001B[43m(\u001B[49m\u001B[43m)\u001B[49m\u001B[38;5;241;43m.\u001B[39;49m\u001B[43mopen\u001B[49m\u001B[43m(\u001B[49m\n\u001B[0;32m    224\u001B[0m \u001B[43m    \u001B[49m\u001B[43mrequest\u001B[49m\u001B[43m,\u001B[49m\n\u001B[0;32m    225\u001B[0m \u001B[43m    \u001B[49m\u001B[43mbuffered\u001B[49m\u001B[38;5;241;43m=\u001B[39;49m\u001B[43mbuffered\u001B[49m\u001B[43m,\u001B[49m\n\u001B[0;32m    226\u001B[0m \u001B[43m    \u001B[49m\u001B[43mfollow_redirects\u001B[49m\u001B[38;5;241;43m=\u001B[39;49m\u001B[43mfollow_redirects\u001B[49m\u001B[43m,\u001B[49m\n\u001B[0;32m    227\u001B[0m \u001B[43m\u001B[49m\u001B[43m)\u001B[49m\n\u001B[0;32m    228\u001B[0m response\u001B[38;5;241m.\u001B[39mjson_module \u001B[38;5;241m=\u001B[39m \u001B[38;5;28mself\u001B[39m\u001B[38;5;241m.\u001B[39mapplication\u001B[38;5;241m.\u001B[39mjson  \u001B[38;5;66;03m# type: ignore[misc]\u001B[39;00m\n\u001B[0;32m    230\u001B[0m \u001B[38;5;66;03m# Re-push contexts that were preserved during the request.\u001B[39;00m\n",
      "File \u001B[1;32m~\\AppData\\Local\\pypoetry\\Cache\\virtualenvs\\sibylapi-37J3VntD-py3.8\\lib\\site-packages\\werkzeug\\test.py:1094\u001B[0m, in \u001B[0;36mClient.open\u001B[1;34m(self, buffered, follow_redirects, *args, **kwargs)\u001B[0m\n\u001B[0;32m   1091\u001B[0m     \u001B[38;5;28;01mfinally\u001B[39;00m:\n\u001B[0;32m   1092\u001B[0m         builder\u001B[38;5;241m.\u001B[39mclose()\n\u001B[1;32m-> 1094\u001B[0m response \u001B[38;5;241m=\u001B[39m \u001B[38;5;28;43mself\u001B[39;49m\u001B[38;5;241;43m.\u001B[39;49m\u001B[43mrun_wsgi_app\u001B[49m\u001B[43m(\u001B[49m\u001B[43mrequest\u001B[49m\u001B[38;5;241;43m.\u001B[39;49m\u001B[43menviron\u001B[49m\u001B[43m,\u001B[49m\u001B[43m \u001B[49m\u001B[43mbuffered\u001B[49m\u001B[38;5;241;43m=\u001B[39;49m\u001B[43mbuffered\u001B[49m\u001B[43m)\u001B[49m\n\u001B[0;32m   1095\u001B[0m response \u001B[38;5;241m=\u001B[39m \u001B[38;5;28mself\u001B[39m\u001B[38;5;241m.\u001B[39mresponse_wrapper(\u001B[38;5;241m*\u001B[39mresponse, request\u001B[38;5;241m=\u001B[39mrequest)\n\u001B[0;32m   1097\u001B[0m redirects \u001B[38;5;241m=\u001B[39m \u001B[38;5;28mset\u001B[39m()\n",
      "File \u001B[1;32m~\\AppData\\Local\\pypoetry\\Cache\\virtualenvs\\sibylapi-37J3VntD-py3.8\\lib\\site-packages\\werkzeug\\test.py:961\u001B[0m, in \u001B[0;36mClient.run_wsgi_app\u001B[1;34m(self, environ, buffered)\u001B[0m\n\u001B[0;32m    958\u001B[0m \u001B[38;5;28;01mif\u001B[39;00m \u001B[38;5;28mself\u001B[39m\u001B[38;5;241m.\u001B[39mcookie_jar \u001B[38;5;129;01mis\u001B[39;00m \u001B[38;5;129;01mnot\u001B[39;00m \u001B[38;5;28;01mNone\u001B[39;00m:\n\u001B[0;32m    959\u001B[0m     \u001B[38;5;28mself\u001B[39m\u001B[38;5;241m.\u001B[39mcookie_jar\u001B[38;5;241m.\u001B[39minject_wsgi(environ)\n\u001B[1;32m--> 961\u001B[0m rv \u001B[38;5;241m=\u001B[39m \u001B[43mrun_wsgi_app\u001B[49m\u001B[43m(\u001B[49m\u001B[38;5;28;43mself\u001B[39;49m\u001B[38;5;241;43m.\u001B[39;49m\u001B[43mapplication\u001B[49m\u001B[43m,\u001B[49m\u001B[43m \u001B[49m\u001B[43menviron\u001B[49m\u001B[43m,\u001B[49m\u001B[43m \u001B[49m\u001B[43mbuffered\u001B[49m\u001B[38;5;241;43m=\u001B[39;49m\u001B[43mbuffered\u001B[49m\u001B[43m)\u001B[49m\n\u001B[0;32m    963\u001B[0m \u001B[38;5;28;01mif\u001B[39;00m \u001B[38;5;28mself\u001B[39m\u001B[38;5;241m.\u001B[39mcookie_jar \u001B[38;5;129;01mis\u001B[39;00m \u001B[38;5;129;01mnot\u001B[39;00m \u001B[38;5;28;01mNone\u001B[39;00m:\n\u001B[0;32m    964\u001B[0m     \u001B[38;5;28mself\u001B[39m\u001B[38;5;241m.\u001B[39mcookie_jar\u001B[38;5;241m.\u001B[39mextract_wsgi(environ, rv[\u001B[38;5;241m2\u001B[39m])\n",
      "File \u001B[1;32m~\\AppData\\Local\\pypoetry\\Cache\\virtualenvs\\sibylapi-37J3VntD-py3.8\\lib\\site-packages\\werkzeug\\test.py:1242\u001B[0m, in \u001B[0;36mrun_wsgi_app\u001B[1;34m(app, environ, buffered)\u001B[0m\n\u001B[0;32m   1239\u001B[0m     response \u001B[38;5;241m=\u001B[39m (status, headers)\n\u001B[0;32m   1240\u001B[0m     \u001B[38;5;28;01mreturn\u001B[39;00m buffer\u001B[38;5;241m.\u001B[39mappend\n\u001B[1;32m-> 1242\u001B[0m app_rv \u001B[38;5;241m=\u001B[39m \u001B[43mapp\u001B[49m\u001B[43m(\u001B[49m\u001B[43menviron\u001B[49m\u001B[43m,\u001B[49m\u001B[43m \u001B[49m\u001B[43mstart_response\u001B[49m\u001B[43m)\u001B[49m\n\u001B[0;32m   1243\u001B[0m close_func \u001B[38;5;241m=\u001B[39m \u001B[38;5;28mgetattr\u001B[39m(app_rv, \u001B[38;5;124m\"\u001B[39m\u001B[38;5;124mclose\u001B[39m\u001B[38;5;124m\"\u001B[39m, \u001B[38;5;28;01mNone\u001B[39;00m)\n\u001B[0;32m   1244\u001B[0m app_iter: t\u001B[38;5;241m.\u001B[39mIterable[\u001B[38;5;28mbytes\u001B[39m] \u001B[38;5;241m=\u001B[39m \u001B[38;5;28miter\u001B[39m(app_rv)\n",
      "File \u001B[1;32m~\\AppData\\Local\\pypoetry\\Cache\\virtualenvs\\sibylapi-37J3VntD-py3.8\\lib\\site-packages\\flask\\app.py:2548\u001B[0m, in \u001B[0;36mFlask.__call__\u001B[1;34m(self, environ, start_response)\u001B[0m\n\u001B[0;32m   2543\u001B[0m \u001B[38;5;28;01mdef\u001B[39;00m \u001B[38;5;21m__call__\u001B[39m(\u001B[38;5;28mself\u001B[39m, environ: \u001B[38;5;28mdict\u001B[39m, start_response: t\u001B[38;5;241m.\u001B[39mCallable) \u001B[38;5;241m-\u001B[39m\u001B[38;5;241m>\u001B[39m t\u001B[38;5;241m.\u001B[39mAny:\n\u001B[0;32m   2544\u001B[0m \u001B[38;5;250m    \u001B[39m\u001B[38;5;124;03m\"\"\"The WSGI server calls the Flask application object as the\u001B[39;00m\n\u001B[0;32m   2545\u001B[0m \u001B[38;5;124;03m    WSGI application. This calls :meth:`wsgi_app`, which can be\u001B[39;00m\n\u001B[0;32m   2546\u001B[0m \u001B[38;5;124;03m    wrapped to apply middleware.\u001B[39;00m\n\u001B[0;32m   2547\u001B[0m \u001B[38;5;124;03m    \"\"\"\u001B[39;00m\n\u001B[1;32m-> 2548\u001B[0m     \u001B[38;5;28;01mreturn\u001B[39;00m \u001B[38;5;28;43mself\u001B[39;49m\u001B[38;5;241;43m.\u001B[39;49m\u001B[43mwsgi_app\u001B[49m\u001B[43m(\u001B[49m\u001B[43menviron\u001B[49m\u001B[43m,\u001B[49m\u001B[43m \u001B[49m\u001B[43mstart_response\u001B[49m\u001B[43m)\u001B[49m\n",
      "File \u001B[1;32m~\\AppData\\Local\\pypoetry\\Cache\\virtualenvs\\sibylapi-37J3VntD-py3.8\\lib\\site-packages\\flask\\app.py:2528\u001B[0m, in \u001B[0;36mFlask.wsgi_app\u001B[1;34m(self, environ, start_response)\u001B[0m\n\u001B[0;32m   2526\u001B[0m \u001B[38;5;28;01mexcept\u001B[39;00m \u001B[38;5;167;01mException\u001B[39;00m \u001B[38;5;28;01mas\u001B[39;00m e:\n\u001B[0;32m   2527\u001B[0m     error \u001B[38;5;241m=\u001B[39m e\n\u001B[1;32m-> 2528\u001B[0m     response \u001B[38;5;241m=\u001B[39m \u001B[38;5;28;43mself\u001B[39;49m\u001B[38;5;241;43m.\u001B[39;49m\u001B[43mhandle_exception\u001B[49m\u001B[43m(\u001B[49m\u001B[43me\u001B[49m\u001B[43m)\u001B[49m\n\u001B[0;32m   2529\u001B[0m \u001B[38;5;28;01mexcept\u001B[39;00m:  \u001B[38;5;66;03m# noqa: B001\u001B[39;00m\n\u001B[0;32m   2530\u001B[0m     error \u001B[38;5;241m=\u001B[39m sys\u001B[38;5;241m.\u001B[39mexc_info()[\u001B[38;5;241m1\u001B[39m]\n",
      "File \u001B[1;32m~\\AppData\\Local\\pypoetry\\Cache\\virtualenvs\\sibylapi-37J3VntD-py3.8\\lib\\site-packages\\flask_restful\\__init__.py:271\u001B[0m, in \u001B[0;36mApi.error_router\u001B[1;34m(self, original_handler, e)\u001B[0m\n\u001B[0;32m    269\u001B[0m     \u001B[38;5;28;01mexcept\u001B[39;00m \u001B[38;5;167;01mException\u001B[39;00m:\n\u001B[0;32m    270\u001B[0m         \u001B[38;5;28;01mpass\u001B[39;00m  \u001B[38;5;66;03m# Fall through to original handler\u001B[39;00m\n\u001B[1;32m--> 271\u001B[0m \u001B[38;5;28;01mreturn\u001B[39;00m \u001B[43moriginal_handler\u001B[49m\u001B[43m(\u001B[49m\u001B[43me\u001B[49m\u001B[43m)\u001B[49m\n",
      "File \u001B[1;32m~\\AppData\\Local\\pypoetry\\Cache\\virtualenvs\\sibylapi-37J3VntD-py3.8\\lib\\site-packages\\flask_cors\\extension.py:165\u001B[0m, in \u001B[0;36mCORS.init_app.<locals>._after_request_decorator.<locals>.wrapped_function\u001B[1;34m(*args, **kwargs)\u001B[0m\n\u001B[0;32m    164\u001B[0m \u001B[38;5;28;01mdef\u001B[39;00m \u001B[38;5;21mwrapped_function\u001B[39m(\u001B[38;5;241m*\u001B[39margs, \u001B[38;5;241m*\u001B[39m\u001B[38;5;241m*\u001B[39mkwargs):\n\u001B[1;32m--> 165\u001B[0m     \u001B[38;5;28;01mreturn\u001B[39;00m cors_after_request(app\u001B[38;5;241m.\u001B[39mmake_response(\u001B[43mf\u001B[49m\u001B[43m(\u001B[49m\u001B[38;5;241;43m*\u001B[39;49m\u001B[43margs\u001B[49m\u001B[43m,\u001B[49m\u001B[43m \u001B[49m\u001B[38;5;241;43m*\u001B[39;49m\u001B[38;5;241;43m*\u001B[39;49m\u001B[43mkwargs\u001B[49m\u001B[43m)\u001B[49m))\n",
      "File \u001B[1;32m~\\AppData\\Local\\pypoetry\\Cache\\virtualenvs\\sibylapi-37J3VntD-py3.8\\lib\\site-packages\\flask\\app.py:2525\u001B[0m, in \u001B[0;36mFlask.wsgi_app\u001B[1;34m(self, environ, start_response)\u001B[0m\n\u001B[0;32m   2523\u001B[0m \u001B[38;5;28;01mtry\u001B[39;00m:\n\u001B[0;32m   2524\u001B[0m     ctx\u001B[38;5;241m.\u001B[39mpush()\n\u001B[1;32m-> 2525\u001B[0m     response \u001B[38;5;241m=\u001B[39m \u001B[38;5;28;43mself\u001B[39;49m\u001B[38;5;241;43m.\u001B[39;49m\u001B[43mfull_dispatch_request\u001B[49m\u001B[43m(\u001B[49m\u001B[43m)\u001B[49m\n\u001B[0;32m   2526\u001B[0m \u001B[38;5;28;01mexcept\u001B[39;00m \u001B[38;5;167;01mException\u001B[39;00m \u001B[38;5;28;01mas\u001B[39;00m e:\n\u001B[0;32m   2527\u001B[0m     error \u001B[38;5;241m=\u001B[39m e\n",
      "File \u001B[1;32m~\\AppData\\Local\\pypoetry\\Cache\\virtualenvs\\sibylapi-37J3VntD-py3.8\\lib\\site-packages\\flask\\app.py:1822\u001B[0m, in \u001B[0;36mFlask.full_dispatch_request\u001B[1;34m(self)\u001B[0m\n\u001B[0;32m   1820\u001B[0m         rv \u001B[38;5;241m=\u001B[39m \u001B[38;5;28mself\u001B[39m\u001B[38;5;241m.\u001B[39mdispatch_request()\n\u001B[0;32m   1821\u001B[0m \u001B[38;5;28;01mexcept\u001B[39;00m \u001B[38;5;167;01mException\u001B[39;00m \u001B[38;5;28;01mas\u001B[39;00m e:\n\u001B[1;32m-> 1822\u001B[0m     rv \u001B[38;5;241m=\u001B[39m \u001B[38;5;28;43mself\u001B[39;49m\u001B[38;5;241;43m.\u001B[39;49m\u001B[43mhandle_user_exception\u001B[49m\u001B[43m(\u001B[49m\u001B[43me\u001B[49m\u001B[43m)\u001B[49m\n\u001B[0;32m   1823\u001B[0m \u001B[38;5;28;01mreturn\u001B[39;00m \u001B[38;5;28mself\u001B[39m\u001B[38;5;241m.\u001B[39mfinalize_request(rv)\n",
      "File \u001B[1;32m~\\AppData\\Local\\pypoetry\\Cache\\virtualenvs\\sibylapi-37J3VntD-py3.8\\lib\\site-packages\\flask_restful\\__init__.py:271\u001B[0m, in \u001B[0;36mApi.error_router\u001B[1;34m(self, original_handler, e)\u001B[0m\n\u001B[0;32m    269\u001B[0m     \u001B[38;5;28;01mexcept\u001B[39;00m \u001B[38;5;167;01mException\u001B[39;00m:\n\u001B[0;32m    270\u001B[0m         \u001B[38;5;28;01mpass\u001B[39;00m  \u001B[38;5;66;03m# Fall through to original handler\u001B[39;00m\n\u001B[1;32m--> 271\u001B[0m \u001B[38;5;28;01mreturn\u001B[39;00m \u001B[43moriginal_handler\u001B[49m\u001B[43m(\u001B[49m\u001B[43me\u001B[49m\u001B[43m)\u001B[49m\n",
      "File \u001B[1;32m~\\AppData\\Local\\pypoetry\\Cache\\virtualenvs\\sibylapi-37J3VntD-py3.8\\lib\\site-packages\\flask_cors\\extension.py:165\u001B[0m, in \u001B[0;36mCORS.init_app.<locals>._after_request_decorator.<locals>.wrapped_function\u001B[1;34m(*args, **kwargs)\u001B[0m\n\u001B[0;32m    164\u001B[0m \u001B[38;5;28;01mdef\u001B[39;00m \u001B[38;5;21mwrapped_function\u001B[39m(\u001B[38;5;241m*\u001B[39margs, \u001B[38;5;241m*\u001B[39m\u001B[38;5;241m*\u001B[39mkwargs):\n\u001B[1;32m--> 165\u001B[0m     \u001B[38;5;28;01mreturn\u001B[39;00m cors_after_request(app\u001B[38;5;241m.\u001B[39mmake_response(\u001B[43mf\u001B[49m\u001B[43m(\u001B[49m\u001B[38;5;241;43m*\u001B[39;49m\u001B[43margs\u001B[49m\u001B[43m,\u001B[49m\u001B[43m \u001B[49m\u001B[38;5;241;43m*\u001B[39;49m\u001B[38;5;241;43m*\u001B[39;49m\u001B[43mkwargs\u001B[49m\u001B[43m)\u001B[49m))\n",
      "File \u001B[1;32m~\\AppData\\Local\\pypoetry\\Cache\\virtualenvs\\sibylapi-37J3VntD-py3.8\\lib\\site-packages\\flask\\app.py:1820\u001B[0m, in \u001B[0;36mFlask.full_dispatch_request\u001B[1;34m(self)\u001B[0m\n\u001B[0;32m   1818\u001B[0m     rv \u001B[38;5;241m=\u001B[39m \u001B[38;5;28mself\u001B[39m\u001B[38;5;241m.\u001B[39mpreprocess_request()\n\u001B[0;32m   1819\u001B[0m     \u001B[38;5;28;01mif\u001B[39;00m rv \u001B[38;5;129;01mis\u001B[39;00m \u001B[38;5;28;01mNone\u001B[39;00m:\n\u001B[1;32m-> 1820\u001B[0m         rv \u001B[38;5;241m=\u001B[39m \u001B[38;5;28;43mself\u001B[39;49m\u001B[38;5;241;43m.\u001B[39;49m\u001B[43mdispatch_request\u001B[49m\u001B[43m(\u001B[49m\u001B[43m)\u001B[49m\n\u001B[0;32m   1821\u001B[0m \u001B[38;5;28;01mexcept\u001B[39;00m \u001B[38;5;167;01mException\u001B[39;00m \u001B[38;5;28;01mas\u001B[39;00m e:\n\u001B[0;32m   1822\u001B[0m     rv \u001B[38;5;241m=\u001B[39m \u001B[38;5;28mself\u001B[39m\u001B[38;5;241m.\u001B[39mhandle_user_exception(e)\n",
      "File \u001B[1;32m~\\AppData\\Local\\pypoetry\\Cache\\virtualenvs\\sibylapi-37J3VntD-py3.8\\lib\\site-packages\\flask\\app.py:1796\u001B[0m, in \u001B[0;36mFlask.dispatch_request\u001B[1;34m(self)\u001B[0m\n\u001B[0;32m   1794\u001B[0m \u001B[38;5;66;03m# otherwise dispatch to the handler for that endpoint\u001B[39;00m\n\u001B[0;32m   1795\u001B[0m view_args: t\u001B[38;5;241m.\u001B[39mDict[\u001B[38;5;28mstr\u001B[39m, t\u001B[38;5;241m.\u001B[39mAny] \u001B[38;5;241m=\u001B[39m req\u001B[38;5;241m.\u001B[39mview_args  \u001B[38;5;66;03m# type: ignore[assignment]\u001B[39;00m\n\u001B[1;32m-> 1796\u001B[0m \u001B[38;5;28;01mreturn\u001B[39;00m \u001B[38;5;28;43mself\u001B[39;49m\u001B[38;5;241;43m.\u001B[39;49m\u001B[43mensure_sync\u001B[49m\u001B[43m(\u001B[49m\u001B[38;5;28;43mself\u001B[39;49m\u001B[38;5;241;43m.\u001B[39;49m\u001B[43mview_functions\u001B[49m\u001B[43m[\u001B[49m\u001B[43mrule\u001B[49m\u001B[38;5;241;43m.\u001B[39;49m\u001B[43mendpoint\u001B[49m\u001B[43m]\u001B[49m\u001B[43m)\u001B[49m\u001B[43m(\u001B[49m\u001B[38;5;241;43m*\u001B[39;49m\u001B[38;5;241;43m*\u001B[39;49m\u001B[43mview_args\u001B[49m\u001B[43m)\u001B[49m\n",
      "File \u001B[1;32m~\\AppData\\Local\\pypoetry\\Cache\\virtualenvs\\sibylapi-37J3VntD-py3.8\\lib\\site-packages\\flask_restful\\__init__.py:467\u001B[0m, in \u001B[0;36mApi.output.<locals>.wrapper\u001B[1;34m(*args, **kwargs)\u001B[0m\n\u001B[0;32m    465\u001B[0m \u001B[38;5;129m@wraps\u001B[39m(resource)\n\u001B[0;32m    466\u001B[0m \u001B[38;5;28;01mdef\u001B[39;00m \u001B[38;5;21mwrapper\u001B[39m(\u001B[38;5;241m*\u001B[39margs, \u001B[38;5;241m*\u001B[39m\u001B[38;5;241m*\u001B[39mkwargs):\n\u001B[1;32m--> 467\u001B[0m     resp \u001B[38;5;241m=\u001B[39m \u001B[43mresource\u001B[49m\u001B[43m(\u001B[49m\u001B[38;5;241;43m*\u001B[39;49m\u001B[43margs\u001B[49m\u001B[43m,\u001B[49m\u001B[43m \u001B[49m\u001B[38;5;241;43m*\u001B[39;49m\u001B[38;5;241;43m*\u001B[39;49m\u001B[43mkwargs\u001B[49m\u001B[43m)\u001B[49m\n\u001B[0;32m    468\u001B[0m     \u001B[38;5;28;01mif\u001B[39;00m \u001B[38;5;28misinstance\u001B[39m(resp, ResponseBase):  \u001B[38;5;66;03m# There may be a better way to test\u001B[39;00m\n\u001B[0;32m    469\u001B[0m         \u001B[38;5;28;01mreturn\u001B[39;00m resp\n",
      "File \u001B[1;32m~\\AppData\\Local\\pypoetry\\Cache\\virtualenvs\\sibylapi-37J3VntD-py3.8\\lib\\site-packages\\flask\\views.py:107\u001B[0m, in \u001B[0;36mView.as_view.<locals>.view\u001B[1;34m(**kwargs)\u001B[0m\n\u001B[0;32m    103\u001B[0m \u001B[38;5;28;01mdef\u001B[39;00m \u001B[38;5;21mview\u001B[39m(\u001B[38;5;241m*\u001B[39m\u001B[38;5;241m*\u001B[39mkwargs: t\u001B[38;5;241m.\u001B[39mAny) \u001B[38;5;241m-\u001B[39m\u001B[38;5;241m>\u001B[39m ft\u001B[38;5;241m.\u001B[39mResponseReturnValue:\n\u001B[0;32m    104\u001B[0m     \u001B[38;5;28mself\u001B[39m \u001B[38;5;241m=\u001B[39m view\u001B[38;5;241m.\u001B[39mview_class(  \u001B[38;5;66;03m# type: ignore[attr-defined]\u001B[39;00m\n\u001B[0;32m    105\u001B[0m         \u001B[38;5;241m*\u001B[39mclass_args, \u001B[38;5;241m*\u001B[39m\u001B[38;5;241m*\u001B[39mclass_kwargs\n\u001B[0;32m    106\u001B[0m     )\n\u001B[1;32m--> 107\u001B[0m     \u001B[38;5;28;01mreturn\u001B[39;00m \u001B[43mcurrent_app\u001B[49m\u001B[38;5;241;43m.\u001B[39;49m\u001B[43mensure_sync\u001B[49m\u001B[43m(\u001B[49m\u001B[38;5;28;43mself\u001B[39;49m\u001B[38;5;241;43m.\u001B[39;49m\u001B[43mdispatch_request\u001B[49m\u001B[43m)\u001B[49m\u001B[43m(\u001B[49m\u001B[38;5;241;43m*\u001B[39;49m\u001B[38;5;241;43m*\u001B[39;49m\u001B[43mkwargs\u001B[49m\u001B[43m)\u001B[49m\n",
      "File \u001B[1;32m~\\AppData\\Local\\pypoetry\\Cache\\virtualenvs\\sibylapi-37J3VntD-py3.8\\lib\\site-packages\\flask_restful\\__init__.py:582\u001B[0m, in \u001B[0;36mResource.dispatch_request\u001B[1;34m(self, *args, **kwargs)\u001B[0m\n\u001B[0;32m    579\u001B[0m \u001B[38;5;28;01mfor\u001B[39;00m decorator \u001B[38;5;129;01min\u001B[39;00m decorators:\n\u001B[0;32m    580\u001B[0m     meth \u001B[38;5;241m=\u001B[39m decorator(meth)\n\u001B[1;32m--> 582\u001B[0m resp \u001B[38;5;241m=\u001B[39m \u001B[43mmeth\u001B[49m\u001B[43m(\u001B[49m\u001B[38;5;241;43m*\u001B[39;49m\u001B[43margs\u001B[49m\u001B[43m,\u001B[49m\u001B[43m \u001B[49m\u001B[38;5;241;43m*\u001B[39;49m\u001B[38;5;241;43m*\u001B[39;49m\u001B[43mkwargs\u001B[49m\u001B[43m)\u001B[49m\n\u001B[0;32m    584\u001B[0m \u001B[38;5;28;01mif\u001B[39;00m \u001B[38;5;28misinstance\u001B[39m(resp, ResponseBase):  \u001B[38;5;66;03m# There may be a better way to test\u001B[39;00m\n\u001B[0;32m    585\u001B[0m     \u001B[38;5;28;01mreturn\u001B[39;00m resp\n",
      "File \u001B[1;32m~\\Documents\\github\\sibyl-api\\sibyl\\resources\\model.py:208\u001B[0m, in \u001B[0;36mPrediction.get\u001B[1;34m(self)\u001B[0m\n\u001B[0;32m    205\u001B[0m     LOGGER\u001B[38;5;241m.\u001B[39mexception(e)\n\u001B[0;32m    206\u001B[0m     \u001B[38;5;28;01mreturn\u001B[39;00m {\u001B[38;5;124m\"\u001B[39m\u001B[38;5;124mmessage\u001B[39m\u001B[38;5;124m\"\u001B[39m: \u001B[38;5;28mstr\u001B[39m(e)}, \u001B[38;5;241m500\u001B[39m\n\u001B[1;32m--> 208\u001B[0m prediction \u001B[38;5;241m=\u001B[39m \u001B[43mexplainer\u001B[49m\u001B[38;5;241;43m.\u001B[39;49m\u001B[43mpredict\u001B[49m\u001B[43m(\u001B[49m\u001B[43mentity_features\u001B[49m\u001B[43m)\u001B[49m[\u001B[38;5;241m0\u001B[39m]\u001B[38;5;241m.\u001B[39mtolist()\n\u001B[0;32m    209\u001B[0m \u001B[38;5;28;01mreturn\u001B[39;00m {\u001B[38;5;124m\"\u001B[39m\u001B[38;5;124moutput\u001B[39m\u001B[38;5;124m\"\u001B[39m: prediction}, \u001B[38;5;241m200\u001B[39m\n",
      "File \u001B[1;32m~\\AppData\\Local\\pypoetry\\Cache\\virtualenvs\\sibylapi-37J3VntD-py3.8\\lib\\site-packages\\pyreal\\realapp\\realapp.py:421\u001B[0m, in \u001B[0;36mRealApp.predict\u001B[1;34m(self, x, model_id, as_dict)\u001B[0m\n\u001B[0;32m    418\u001B[0m \u001B[38;5;28;01mif\u001B[39;00m model_id \u001B[38;5;129;01mis\u001B[39;00m \u001B[38;5;28;01mNone\u001B[39;00m:\n\u001B[0;32m    419\u001B[0m     model_id \u001B[38;5;241m=\u001B[39m \u001B[38;5;28mself\u001B[39m\u001B[38;5;241m.\u001B[39mactive_model_id\n\u001B[1;32m--> 421\u001B[0m preds \u001B[38;5;241m=\u001B[39m \u001B[38;5;28;43mself\u001B[39;49m\u001B[38;5;241;43m.\u001B[39;49m\u001B[43mbase_explainers\u001B[49m\u001B[43m[\u001B[49m\u001B[43mmodel_id\u001B[49m\u001B[43m]\u001B[49m\u001B[38;5;241;43m.\u001B[39;49m\u001B[43mmodel_predict\u001B[49m\u001B[43m(\u001B[49m\u001B[43mx\u001B[49m\u001B[43m)\u001B[49m\n\u001B[0;32m    422\u001B[0m \u001B[38;5;28;01mif\u001B[39;00m \u001B[38;5;129;01mnot\u001B[39;00m as_dict:\n\u001B[0;32m    423\u001B[0m     \u001B[38;5;28;01mreturn\u001B[39;00m preds\n",
      "File \u001B[1;32m~\\AppData\\Local\\pypoetry\\Cache\\virtualenvs\\sibylapi-37J3VntD-py3.8\\lib\\site-packages\\pyreal\\explainers\\base.py:366\u001B[0m, in \u001B[0;36mExplainerBase.model_predict\u001B[1;34m(self, x_orig)\u001B[0m\n\u001B[0;32m    364\u001B[0m \u001B[38;5;28;01mif\u001B[39;00m x_orig\u001B[38;5;241m.\u001B[39mndim \u001B[38;5;241m==\u001B[39m \u001B[38;5;241m1\u001B[39m:\n\u001B[0;32m    365\u001B[0m     x_orig \u001B[38;5;241m=\u001B[39m x_orig\u001B[38;5;241m.\u001B[39mto_frame()\u001B[38;5;241m.\u001B[39mT\n\u001B[1;32m--> 366\u001B[0m x_model \u001B[38;5;241m=\u001B[39m \u001B[38;5;28;43mself\u001B[39;49m\u001B[38;5;241;43m.\u001B[39;49m\u001B[43mtransform_to_x_model\u001B[49m\u001B[43m(\u001B[49m\u001B[43mx_orig\u001B[49m\u001B[43m)\u001B[49m\n\u001B[0;32m    367\u001B[0m \u001B[38;5;28;01mreturn\u001B[39;00m \u001B[38;5;28mself\u001B[39m\u001B[38;5;241m.\u001B[39mmodel\u001B[38;5;241m.\u001B[39mpredict(x_model)\n",
      "File \u001B[1;32m~\\AppData\\Local\\pypoetry\\Cache\\virtualenvs\\sibylapi-37J3VntD-py3.8\\lib\\site-packages\\pyreal\\explainers\\base.py:250\u001B[0m, in \u001B[0;36mExplainerBase.transform_to_x_model\u001B[1;34m(self, x_orig)\u001B[0m\n\u001B[0;32m    238\u001B[0m \u001B[38;5;250m\u001B[39m\u001B[38;5;124;03m\"\"\"\u001B[39;00m\n\u001B[0;32m    239\u001B[0m \u001B[38;5;124;03mTransform x_orig to x_model, using the model transformers\u001B[39;00m\n\u001B[0;32m    240\u001B[0m \n\u001B[1;32m   (...)\u001B[0m\n\u001B[0;32m    247\u001B[0m \u001B[38;5;124;03m        x_orig converted to model-ready form\u001B[39;00m\n\u001B[0;32m    248\u001B[0m \u001B[38;5;124;03m\"\"\"\u001B[39;00m\n\u001B[0;32m    249\u001B[0m m_transformers \u001B[38;5;241m=\u001B[39m _get_transformers(\u001B[38;5;28mself\u001B[39m\u001B[38;5;241m.\u001B[39mtransformers, model\u001B[38;5;241m=\u001B[39m\u001B[38;5;28;01mTrue\u001B[39;00m)\n\u001B[1;32m--> 250\u001B[0m \u001B[38;5;28;01mreturn\u001B[39;00m \u001B[43mrun_transformers\u001B[49m\u001B[43m(\u001B[49m\u001B[43mm_transformers\u001B[49m\u001B[43m,\u001B[49m\u001B[43m \u001B[49m\u001B[43mx_orig\u001B[49m\u001B[43m)\u001B[49m\n",
      "File \u001B[1;32m~\\AppData\\Local\\pypoetry\\Cache\\virtualenvs\\sibylapi-37J3VntD-py3.8\\lib\\site-packages\\pyreal\\transformers\\base.py:77\u001B[0m, in \u001B[0;36mrun_transformers\u001B[1;34m(transformers, x)\u001B[0m\n\u001B[0;32m     75\u001B[0m     transformers \u001B[38;5;241m=\u001B[39m [transformers]\n\u001B[0;32m     76\u001B[0m \u001B[38;5;28;01mfor\u001B[39;00m transform \u001B[38;5;129;01min\u001B[39;00m transformers:\n\u001B[1;32m---> 77\u001B[0m     x_transform \u001B[38;5;241m=\u001B[39m \u001B[43mtransform\u001B[49m\u001B[38;5;241;43m.\u001B[39;49m\u001B[43mtransform\u001B[49m\u001B[43m(\u001B[49m\u001B[43mx_transform\u001B[49m\u001B[43m)\u001B[49m\n\u001B[0;32m     78\u001B[0m \u001B[38;5;28;01mif\u001B[39;00m series \u001B[38;5;129;01mand\u001B[39;00m \u001B[38;5;28misinstance\u001B[39m(x_transform, pd\u001B[38;5;241m.\u001B[39mDataFrame):\n\u001B[0;32m     79\u001B[0m     x_transform \u001B[38;5;241m=\u001B[39m x_transform\u001B[38;5;241m.\u001B[39msqueeze()\n",
      "File \u001B[1;32m~\\AppData\\Local\\pypoetry\\Cache\\virtualenvs\\sibylapi-37J3VntD-py3.8\\lib\\site-packages\\pyreal\\transformers\\base.py:187\u001B[0m, in \u001B[0;36mTransformer.transform\u001B[1;34m(self, x)\u001B[0m\n\u001B[0;32m    173\u001B[0m \u001B[38;5;28;01mdef\u001B[39;00m \u001B[38;5;21mtransform\u001B[39m(\u001B[38;5;28mself\u001B[39m, x):\n\u001B[0;32m    174\u001B[0m \u001B[38;5;250m    \u001B[39m\u001B[38;5;124;03m\"\"\"\u001B[39;00m\n\u001B[0;32m    175\u001B[0m \u001B[38;5;124;03m    Wrapper for data_transform.\u001B[39;00m\n\u001B[0;32m    176\u001B[0m \u001B[38;5;124;03m    Transforms data `x` to a new feature space.\u001B[39;00m\n\u001B[1;32m   (...)\u001B[0m\n\u001B[0;32m    185\u001B[0m \u001B[38;5;124;03m            The transformed dataset\u001B[39;00m\n\u001B[0;32m    186\u001B[0m \u001B[38;5;124;03m    \"\"\"\u001B[39;00m\n\u001B[1;32m--> 187\u001B[0m     \u001B[38;5;28;01mreturn\u001B[39;00m \u001B[38;5;28;43mself\u001B[39;49m\u001B[38;5;241;43m.\u001B[39;49m\u001B[43mdata_transform\u001B[49m\u001B[43m(\u001B[49m\u001B[43mx\u001B[49m\u001B[43m)\u001B[49m\n",
      "File \u001B[1;32m~\\AppData\\Local\\pypoetry\\Cache\\virtualenvs\\sibylapi-37J3VntD-py3.8\\lib\\site-packages\\pyreal\\transformers\\one_hot_encode.py:159\u001B[0m, in \u001B[0;36mOneHotEncoder.data_transform\u001B[1;34m(self, x)\u001B[0m\n\u001B[0;32m    157\u001B[0m index \u001B[38;5;241m=\u001B[39m x_to_encode\u001B[38;5;241m.\u001B[39mindex\n\u001B[0;32m    158\u001B[0m x_cat_ohe \u001B[38;5;241m=\u001B[39m \u001B[38;5;28mself\u001B[39m\u001B[38;5;241m.\u001B[39mohe\u001B[38;5;241m.\u001B[39mtransform(x_to_encode)\n\u001B[1;32m--> 159\u001B[0m x_cat_ohe \u001B[38;5;241m=\u001B[39m pd\u001B[38;5;241m.\u001B[39mDataFrame(x_cat_ohe, columns\u001B[38;5;241m=\u001B[39m\u001B[38;5;28;43mself\u001B[39;49m\u001B[38;5;241;43m.\u001B[39;49m\u001B[43monehot_columns\u001B[49m, index\u001B[38;5;241m=\u001B[39mindex)\n\u001B[0;32m    160\u001B[0m \u001B[38;5;28;01mreturn\u001B[39;00m pd\u001B[38;5;241m.\u001B[39mconcat([x\u001B[38;5;241m.\u001B[39mdrop(\u001B[38;5;28mself\u001B[39m\u001B[38;5;241m.\u001B[39mcolumns, axis\u001B[38;5;241m=\u001B[39m\u001B[38;5;124m\"\u001B[39m\u001B[38;5;124mcolumns\u001B[39m\u001B[38;5;124m\"\u001B[39m), x_cat_ohe], axis\u001B[38;5;241m=\u001B[39m\u001B[38;5;241m1\u001B[39m)\n",
      "\u001B[1;31mAttributeError\u001B[0m: 'OneHotEncoder' object has no attribute 'onehot_columns'"
     ]
    }
   ],
   "source": [
    "# TEST MODEL APIs\n",
    "response = client.get(\"/api/v1/models/\")\n",
    "assert response.status_code == 200\n",
    "print(\"Number of models:\", len(response.json[\"models\"]))\n",
    "sample_model = response.json[\"models\"][0]\n",
    "model_id = sample_model[\"id\"]\n",
    "\n",
    "response = client.get(\"/api/v1/models/\" + model_id + \"/\")\n",
    "assert response.status_code == 200\n",
    "print(\"Sample model:\", response.json)\n",
    "\n",
    "response = client.get(\"/api/v1/importance/?model_id=\" + model_id)\n",
    "assert response.status_code == 200\n",
    "assert \"importances\" in response.json\n",
    "print(\"Sample importance\", next(iter(response.json[\"importances\"].items())))\n",
    "\n",
    "response = client.get(\"/api/v1/prediction/?model_id=\" + model_id + \"&eid=\" + eid)\n",
    "assert response.status_code == 200\n",
    "print(\"Sample prediction:\", response.json)\n",
    "prediction = response.json[\"output\"]"
   ],
   "metadata": {
    "collapsed": false,
    "pycharm": {
     "name": "#%%\n"
    }
   }
  },
  {
   "cell_type": "code",
   "execution_count": null,
   "outputs": [],
   "source": [
    "# TEST COMPUTING\n",
    "import pandas as pd\n",
    "\n",
    "response = client.post(\"/api/v1/contributions/\", json={\"eid\": eid, \"model_id\": model_id})\n",
    "assert response.status_code == 200\n",
    "assert \"contributions\" in response.json\n",
    "print(\"Sample contribution\", next(iter(response.json[\"contributions\"].items())))\n",
    "\n",
    "response = client.post(\"/api/v1/multi_contributions/\", json={\"eids\": eids, \"model_id\": model_id})\n",
    "assert response.status_code == 200\n",
    "assert \"contributions\" in response.json\n",
    "for eid in response.json[\"contributions\"]:\n",
    "    try:\n",
    "        pd.read_json(response.json[\"contributions\"][eid], orient=\"index\")\n",
    "    except Exception:\n",
    "        print(\"Error with multi-contributions - wrong format\")\n",
    "\n",
    "features_options = list(sample_entity[\"features\"].keys())\n",
    "changes = [(features_options[0], sample_entity[\"features\"][features_options[0]]),\n",
    "           (features_options[1], sample_entity[\"features\"][features_options[1]])]\n",
    "response = client.post(\"/api/v1/modified_prediction/\",json={\"eid\": eid, \"model_id\": model_id, \"changes\": changes})\n",
    "assert response.status_code == 200\n",
    "assert \"prediction\" in response.json\n",
    "print(\"Sample modified prediction:\", response.json)\n",
    "\n",
    "response = client.post(\"/api/v1/single_change_predictions/\", json={\"eid\": eid, \"model_id\": model_id, \"changes\": changes})\n",
    "assert response.status_code == 200\n",
    "assert \"changes\" in response.json\n",
    "print(\"Sample changes:\", response.json[\"changes\"])"
   ],
   "metadata": {
    "collapsed": false,
    "pycharm": {
     "name": "#%%\n"
    }
   }
  },
  {
   "cell_type": "code",
   "execution_count": null,
   "outputs": [],
   "source": [
    "# TEST COMPUTING - PART 2\n",
    "\n",
    "response = client.post(\"/api/v1/similar_entities/\", json={\"eids\": eids, \"model_id\": model_id})\n",
    "assert response.status_code == 200\n",
    "assert \"similar_entities\" in response.json\n",
    "print_flag = True\n",
    "for eid in response.json[\"similar_entities\"]:\n",
    "    assert \"X\" in response.json[\"similar_entities\"][eid]\n",
    "    try:\n",
    "        X = pd.read_json(response.json[\"similar_entities\"][eid][\"X\"], orient=\"index\").head()\n",
    "        if print_flag:\n",
    "            print(\"Sample similar entity:\\n\", X)\n",
    "    except Exception:\n",
    "        print(\"Error with similar entities - wrong X format\")\n",
    "    assert \"y\" in response.json[\"similar_entities\"][eid]\n",
    "    try:\n",
    "        y = pd.read_json(response.json[\"similar_entities\"][eid][\"y\"], orient=\"index\").head()\n",
    "        if print_flag:\n",
    "            print(y)\n",
    "            print_flag=False\n",
    "    except Exception:\n",
    "        print(\"Error with similar entities - wrong y format\")"
   ],
   "metadata": {
    "collapsed": false,
    "pycharm": {
     "name": "#%%\n"
    }
   }
  },
  {
   "cell_type": "code",
   "execution_count": null,
   "outputs": [],
   "source": [],
   "metadata": {
    "collapsed": false,
    "pycharm": {
     "name": "#%%\n"
    }
   }
  }
 ],
 "metadata": {
  "kernelspec": {
   "display_name": "Python 3",
   "language": "python",
   "name": "python3"
  },
  "language_info": {
   "codemirror_mode": {
    "name": "ipython",
    "version": 2
   },
   "file_extension": ".py",
   "mimetype": "text/x-python",
   "name": "python",
   "nbconvert_exporter": "python",
   "pygments_lexer": "ipython2",
   "version": "2.7.6"
  }
 },
 "nbformat": 4,
 "nbformat_minor": 0
}