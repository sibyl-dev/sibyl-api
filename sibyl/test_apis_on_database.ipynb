{
 "cells": [
  {
   "cell_type": "code",
   "execution_count": 10,
   "metadata": {
    "collapsed": true,
    "ExecuteTime": {
     "end_time": "2023-11-17T20:28:35.495985800Z",
     "start_time": "2023-11-17T20:28:35.491480500Z"
    }
   },
   "outputs": [],
   "source": [
    "from sibyl.core import Sibyl\n",
    "from mongoengine import disconnect"
   ]
  },
  {
   "cell_type": "code",
   "execution_count": 11,
   "metadata": {
    "collapsed": false,
    "pycharm": {
     "name": "#%%\n"
    },
    "ExecuteTime": {
     "end_time": "2023-11-17T20:28:35.531345400Z",
     "start_time": "2023-11-17T20:28:35.496993400Z"
    }
   },
   "outputs": [],
   "source": [
    "database = \"housing\""
   ]
  },
  {
   "cell_type": "code",
   "execution_count": 12,
   "metadata": {
    "collapsed": false,
    "pycharm": {
     "name": "#%%\n"
    },
    "ExecuteTime": {
     "end_time": "2023-11-17T20:28:35.540626300Z",
     "start_time": "2023-11-17T20:28:35.512636900Z"
    }
   },
   "outputs": [],
   "source": [
    "disconnect()\n",
    "config = {\n",
    "    \"mongodb\": {\n",
    "        \"db\": database,\n",
    "        \"host\": \"localhost\",\n",
    "        \"port\": 27017,\n",
    "        \"username\": None,\n",
    "        \"password\": None,\n",
    "    },\n",
    "    \"log_filename\": \"test.csv\",\n",
    "    \"feature_distribution_location\": None,\n",
    "    \"flask\": {},\n",
    "}\n",
    "explorer = Sibyl(config, docker=False)\n",
    "app = explorer._init_flask_app(\"test\")\n",
    "client = app.test_client()"
   ]
  },
  {
   "cell_type": "code",
   "execution_count": 13,
   "metadata": {
    "collapsed": false,
    "pycharm": {
     "name": "#%%\n"
    },
    "ExecuteTime": {
     "end_time": "2023-11-17T20:28:35.729804900Z",
     "start_time": "2023-11-17T20:28:35.544630900Z"
    }
   },
   "outputs": [
    {
     "name": "stdout",
     "output_type": "stream",
     "text": [
      "Number of entities: 1456\n"
     ]
    }
   ],
   "source": [
    "# TEST ENTITY APIs\n",
    "eid = None\n",
    "\n",
    "response = client.get(\"/api/v1/entities/\")\n",
    "assert response.status_code == 200\n",
    "assert \"entities\" in response.json\n",
    "print(\"Number of entities:\", len(response.json[\"entities\"]))\n",
    "\n",
    "if eid is None:\n",
    "    eid = response.json[\"entities\"][0][\"eid\"]\n",
    "eids = [response.json[\"entities\"][i][\"eid\"] for i in range(0, 3)]\n",
    "\n",
    "response = client.get(\"/api/v1/entities/\" + eid + \"/\")\n",
    "assert response.status_code == 200\n",
    "assert response.json[\"eid\"] == eid\n",
    "assert \"features\" in response.json\n",
    "assert \"property\" in response.json\n",
    "sample_entity = response.json"
   ]
  },
  {
   "cell_type": "code",
   "execution_count": 14,
   "metadata": {
    "collapsed": false,
    "pycharm": {
     "name": "#%%\n"
    },
    "ExecuteTime": {
     "end_time": "2023-11-17T20:28:35.792916500Z",
     "start_time": "2023-11-17T20:28:35.734784100Z"
    }
   },
   "outputs": [
    {
     "name": "stdout",
     "output_type": "stream",
     "text": [
      "Number of features: 79\n",
      "Sample feature: {'name': 'MSSubClass', 'description': ' Identifies the type of dwelling involved in the sale.', 'type': 'category', 'negated_description': None, 'category': 'general'}\n",
      "Sample category {'name': 'general', 'color': None, 'abbreviation': None}\n"
     ]
    }
   ],
   "source": [
    "# TEST FEATURE APIs\n",
    "\n",
    "response = client.get(\"/api/v1/features/\")\n",
    "assert response.status_code == 200\n",
    "assert \"features\" in response.json\n",
    "print(\"Number of features:\", len(response.json[\"features\"]))\n",
    "sample_feature = response.json[\"features\"][0]\n",
    "\n",
    "response = client.get(\"/api/v1/features/\" + sample_feature[\"name\"] + \"/\")\n",
    "assert response.status_code == 200\n",
    "assert \"name\" in response.json\n",
    "print(\"Sample feature:\", response.json)\n",
    "\n",
    "response = client.get(\"/api/v1/categories/\")\n",
    "assert response.status_code == 200\n",
    "assert \"categories\" in response.json\n",
    "print(\"Sample category\", response.json[\"categories\"][0])"
   ]
  },
  {
   "cell_type": "code",
   "execution_count": 15,
   "metadata": {
    "collapsed": false,
    "pycharm": {
     "name": "#%%\n"
    },
    "ExecuteTime": {
     "end_time": "2023-11-17T20:28:35.856916Z",
     "start_time": "2023-11-17T20:28:35.791917600Z"
    }
   },
   "outputs": [
    {
     "name": "stdout",
     "output_type": "stream",
     "text": [
      "Number of models: 1\n",
      "Sample model: {'model_id': 'housing_model', 'description': 'placeholder', 'performance': 'placeholder'}\n",
      "Sample importance ('MSSubClass', 1783.8738895418035)\n",
      "Sample prediction: {'output': 136805.84817939159}\n"
     ]
    }
   ],
   "source": [
    "# TEST MODEL APIs\n",
    "response = client.get(\"/api/v1/models/\")\n",
    "assert response.status_code == 200\n",
    "print(\"Number of models:\", len(response.json[\"models\"]))\n",
    "sample_model = response.json[\"models\"][0]\n",
    "model_id = sample_model[\"model_id\"]\n",
    "\n",
    "response = client.get(\"/api/v1/models/\" + model_id + \"/\")\n",
    "assert response.status_code == 200\n",
    "print(\"Sample model:\", response.json)\n",
    "\n",
    "response = client.get(\"/api/v1/importance/?model_id=\" + model_id)\n",
    "assert response.status_code == 200\n",
    "assert \"importances\" in response.json\n",
    "print(\"Sample importance\", next(iter(response.json[\"importances\"].items())))\n",
    "\n",
    "response = client.get(\"/api/v1/prediction/?model_id=\" + model_id + \"&eid=\" + eid)\n",
    "assert response.status_code == 200\n",
    "print(\"Sample prediction:\", response.json)\n",
    "prediction = response.json[\"output\"]"
   ]
  },
  {
   "cell_type": "code",
   "execution_count": 16,
   "metadata": {
    "collapsed": false,
    "ExecuteTime": {
     "end_time": "2023-11-17T20:28:35.871041600Z",
     "start_time": "2023-11-17T20:28:35.855629200Z"
    }
   },
   "outputs": [
    {
     "name": "stdout",
     "output_type": "stream",
     "text": [
      "Sample context: {'context': {'id': '6557c957e19c137781c8e6b6', 'terms': {'Positive': 'Beneficial', 'Negative': 'Detrimental', 'Feature': 'Factor', 'Prediction': 'Predicted Price', 'Feature Contributions': 'Factor Contributions', 'Counterfactuals': 'Sandbox', 'Feature Importance': 'Factor Importance', 'Feature Distributions': 'Factor Distributions', 'Entity': 'House'}, 'gui_preset': 'profit_usd', 'gui_config': {'pred_type': 'numeric', 'model_pred_bad_outcome': False, 'pred_format_string': '${:,.2f}'}}}\n"
     ]
    }
   ],
   "source": [
    "# TEST CONTEXTS\n",
    "\n",
    "response = client.get(\"/api/v1/contexts/\")\n",
    "assert response.status_code == 200\n",
    "context_id = response.json[\"contexts\"][0][\"id\"]\n",
    "\n",
    "response = client.get(\"/api/v1/context/\" + context_id + \"/\")\n",
    "assert response.status_code == 200\n",
    "print(\"Sample context:\", response.json)"
   ]
  },
  {
   "cell_type": "code",
   "execution_count": 17,
   "metadata": {
    "collapsed": false,
    "pycharm": {
     "name": "#%%\n"
    },
    "ExecuteTime": {
     "end_time": "2023-11-17T20:28:36.062296900Z",
     "start_time": "2023-11-17T20:28:35.871041600Z"
    }
   },
   "outputs": [
    {
     "name": "stdout",
     "output_type": "stream",
     "text": [
      "Sample contribution ('MSSubClass', {'Feature Value': 20, 'Contribution': 1719.226755355572, 'Average/Mode': 20.0})\n",
      "Multi-contributions validated\n",
      "Sample modified prediction: {'prediction': 183246.9701684981}\n",
      "Sample predictions: [['MSSubClass', 183246.9701684981], ['MSZoning', 183246.9701684981]]\n"
     ]
    }
   ],
   "source": [
    "# TEST COMPUTING\n",
    "import pandas as pd\n",
    "\n",
    "response = client.post(\"/api/v1/contributions/\", json={\"eid\": eid, \"model_id\": model_id})\n",
    "assert response.status_code == 200\n",
    "assert \"contributions\" in response.json\n",
    "print(\"Sample contribution\", next(iter(response.json[\"contributions\"].items())))\n",
    "\n",
    "response = client.post(\"/api/v1/multi_contributions/\", json={\"eids\": eids, \"model_id\": model_id})\n",
    "assert response.status_code == 200\n",
    "assert \"contributions\" in response.json\n",
    "for eid in response.json[\"contributions\"]:\n",
    "    try:\n",
    "        pd.DataFrame.from_dict(response.json[\"contributions\"][eid], orient=\"index\")\n",
    "    except Exception as e:\n",
    "        print(\"Error with multi-contributions - wrong format\")\n",
    "        raise e\n",
    "print(\"Multi-contributions validated\")\n",
    "\n",
    "row_ids = list(sample_entity[\"features\"].keys())\n",
    "features = list(sample_entity[\"features\"][row_ids[0]].keys())\n",
    "\n",
    "changes = {\n",
    "    features[0]: sample_entity[\"features\"][row_ids[0]][features[0]],\n",
    "    features[1]: sample_entity[\"features\"][row_ids[0]][features[1]],\n",
    "}\n",
    "response = client.post(\n",
    "    \"/api/v1/modified_prediction/\", json={\"eid\": eid, \"model_id\": model_id, \"changes\": changes}\n",
    ")\n",
    "assert response.status_code == 200\n",
    "assert \"prediction\" in response.json\n",
    "print(\"Sample modified prediction:\", response.json)\n",
    "\n",
    "response = client.post(\n",
    "    \"/api/v1/single_change_predictions/\",\n",
    "    json={\"eid\": eid, \"model_id\": model_id, \"changes\": changes},\n",
    ")\n",
    "assert response.status_code == 200\n",
    "assert \"predictions\" in response.json\n",
    "print(\"Sample predictions:\", response.json[\"predictions\"])"
   ]
  },
  {
   "cell_type": "code",
   "execution_count": 18,
   "metadata": {
    "collapsed": false,
    "pycharm": {
     "name": "#%%\n"
    },
    "ExecuteTime": {
     "end_time": "2023-11-17T20:28:36.483400100Z",
     "start_time": "2023-11-17T20:28:36.063296300Z"
    }
   },
   "outputs": [
    {
     "name": "stdout",
     "output_type": "stream",
     "text": [
      "Sample contribution object:\n",
      " MSSubClass           20\n",
      "LotFrontage        80.0\n",
      "LotArea            9600\n",
      "OverallQual           6\n",
      "OverallCond           8\n",
      "                  ...  \n",
      "RoofStyle         Gable\n",
      "SaleCondition    Normal\n",
      "SaleType             WD\n",
      "Street             Pave\n",
      "Utilities        AllPub\n",
      "Name: Feature Value, Length: 79, dtype: object\n",
      "Sample similar entity:\n",
      "      MSSubClass MSZoning  LotFrontage  LotArea Street  Alley LotShape  \\\n",
      "0            20       RL         75.0     9937   Pave    NaN      Reg   \n",
      "202          20       RL         75.0    10125   Pave    NaN      Reg   \n",
      "562          20       RL         77.0    10010   Pave    NaN      Reg   \n",
      "\n",
      "    LandContour Utilities LotConfig  ... ScreenPorch PoolArea PoolQC  Fence  \\\n",
      "0           Lvl    AllPub    Inside  ...           0        0    NaN    NaN   \n",
      "202         Lvl    AllPub    Inside  ...           0        0    NaN  MnPrv   \n",
      "562         Lvl    AllPub    Inside  ...           0        0    NaN    NaN   \n",
      "\n",
      "    MiscFeature MiscVal  MoSold  YrSold  SaleType  SaleCondition  \n",
      "0           NaN       0       6    2008        WD         Normal  \n",
      "202         NaN       0       2    2008        WD         Normal  \n",
      "562         NaN       0       4    2006        WD         Normal  \n",
      "\n",
      "[3 rows x 79 columns]\n",
      "y:\n",
      " 0      147500\n",
      "202    171500\n",
      "562    170000\n",
      "dtype: int64\n",
      "Input row:\n",
      " MSSubClass       20\n",
      "MSZoning         RL\n",
      "LotFrontage    75.0\n",
      "LotArea        9937\n",
      "Street         Pave\n",
      "dtype: object\n"
     ]
    }
   ],
   "source": [
    "# TEST COMPUTING - PART 2\n",
    "response = client.post(\n",
    "    \"/api/v1/modified_contribution/\",\n",
    "    json={\"eid\": eid, \"model_id\": model_id, \"changes\": changes},\n",
    ")\n",
    "assert response.status_code == 200\n",
    "assert \"contribution\" in response.json\n",
    "try:\n",
    "    df = pd.DataFrame.from_dict(response.json[\"contribution\"], orient=\"index\")\n",
    "    print(\"Sample contribution object:\\n\", df[df.columns[0]])\n",
    "except Exception as e:\n",
    "    print(\"Error with modified-contributions - wrong format\")\n",
    "    raise e\n",
    "\n",
    "response = client.post(\"/api/v1/similar_entities/\", json={\"eids\": eids, \"model_id\": model_id})\n",
    "assert response.status_code == 200\n",
    "assert \"similar_entities\" in response.json\n",
    "print_flag = True\n",
    "for eid in response.json[\"similar_entities\"]:\n",
    "    assert \"X\" in response.json[\"similar_entities\"][eid]\n",
    "    try:\n",
    "        X = pd.DataFrame.from_dict(\n",
    "            response.json[\"similar_entities\"][eid][\"X\"], orient=\"index\"\n",
    "        ).head()\n",
    "        if print_flag:\n",
    "            print(\"Sample similar entity:\\n\", X)\n",
    "    except Exception as e:\n",
    "        print(\"Error with similar entities - wrong X format\")\n",
    "        raise e\n",
    "    assert \"y\" in response.json[\"similar_entities\"][eid]\n",
    "    try:\n",
    "        y = pd.Series(response.json[\"similar_entities\"][eid][\"y\"]).head()\n",
    "        if print_flag:\n",
    "            print(\"y:\\n\", y)\n",
    "    except Exception as e:\n",
    "        print(\"Error with similar entities - wrong y format\")\n",
    "        raise e\n",
    "    try:\n",
    "        input = pd.Series(response.json[\"similar_entities\"][eid][\"Input\"]).head()\n",
    "        if print_flag:\n",
    "            print(\"Input row:\\n\", input)\n",
    "            print_flag = False\n",
    "    except Exception as e:\n",
    "        print(\"Error with similar entities - wrong input format\")\n",
    "        raise e"
   ]
  },
  {
   "cell_type": "code",
   "execution_count": 18,
   "metadata": {
    "collapsed": false,
    "ExecuteTime": {
     "end_time": "2023-11-17T20:28:36.510931700Z",
     "start_time": "2023-11-17T20:28:36.484399600Z"
    }
   },
   "outputs": [],
   "source": []
  }
 ],
 "metadata": {
  "kernelspec": {
   "display_name": "Python 3",
   "language": "python",
   "name": "python3"
  },
  "language_info": {
   "codemirror_mode": {
    "name": "ipython",
    "version": 3
   },
   "file_extension": ".py",
   "mimetype": "text/x-python",
   "name": "python",
   "nbconvert_exporter": "python",
   "pygments_lexer": "ipython3",
   "version": "3.11.4"
  }
 },
 "nbformat": 4,
 "nbformat_minor": 0
}
