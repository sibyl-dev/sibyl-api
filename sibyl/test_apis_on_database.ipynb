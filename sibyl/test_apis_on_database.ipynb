{
 "cells": [
  {
   "cell_type": "code",
   "execution_count": 17,
   "metadata": {
    "collapsed": true
   },
   "outputs": [],
   "source": [
    "from sibyl.core import Sibyl\n",
    "from mongoengine import disconnect"
   ]
  },
  {
   "cell_type": "code",
   "execution_count": 18,
   "metadata": {
    "collapsed": false,
    "pycharm": {
     "name": "#%%\n"
    }
   },
   "outputs": [],
   "source": [
    "database = \"housing\""
   ]
  },
  {
   "cell_type": "code",
   "execution_count": 19,
   "metadata": {
    "collapsed": false,
    "pycharm": {
     "name": "#%%\n"
    }
   },
   "outputs": [],
   "source": [
    "disconnect()\n",
    "config = {\n",
    "    \"mongodb\": {\n",
    "        \"db\": database,\n",
    "        \"host\": \"localhost\",\n",
    "        \"port\": 27017,\n",
    "        \"username\": None,\n",
    "        \"password\": None,\n",
    "    },\n",
    "    \"log_filename\": \"test.csv\",\n",
    "    \"feature_distribution_location\": None,\n",
    "    \"flask\": {},\n",
    "}\n",
    "explorer = Sibyl(config, docker=False)\n",
    "app = explorer._init_flask_app(\"test\")\n",
    "client = app.test_client()"
   ]
  },
  {
   "cell_type": "code",
   "execution_count": 20,
   "metadata": {
    "collapsed": false,
    "pycharm": {
     "name": "#%%\n"
    }
   },
   "outputs": [
    {
     "name": "stdout",
     "output_type": "stream",
     "text": [
      "Number of entities: 2441\n"
     ]
    }
   ],
   "source": [
    "# TEST ENTITY APIs\n",
    "eid = None\n",
    "\n",
    "response = client.get(\"/api/v1/entities/\")\n",
    "assert response.status_code == 200\n",
    "assert 'entities' in response.json\n",
    "print(\"Number of entities:\",   len(response.json['entities']))\n",
    "\n",
    "if eid is None:\n",
    "    eid = response.json[\"entities\"][0][\"eid\"]\n",
    "eids = [response.json[\"entities\"][i][\"eid\"] for i in range(0, 3)]\n",
    "\n",
    "response = client.get(\"/api/v1/entities/\" + eid + \"/\")\n",
    "assert response.status_code == 200\n",
    "assert response.json[\"eid\"] == eid\n",
    "assert \"features\" in response.json\n",
    "assert \"property\" in response.json\n",
    "sample_entity = response.json"
   ]
  },
  {
   "cell_type": "code",
   "execution_count": 21,
   "metadata": {
    "collapsed": false,
    "pycharm": {
     "name": "#%%\n"
    }
   },
   "outputs": [
    {
     "name": "stdout",
     "output_type": "stream",
     "text": [
      "Number of features: 1459\n",
      "Sample feature: {'name': 'COUNT(scada)', 'description': 'The number of all instances of \"scada\" for each \"COD_ELEMENT\" in \"turbines\".', 'type': 'numeric', 'negated_description': None, 'category': 'all'}\n",
      "Sample category {'name': 'all', 'color': None, 'abbreviation': None}\n"
     ]
    }
   ],
   "source": [
    "# TEST FEATURE APIs\n",
    "\n",
    "response = client.get(\"/api/v1/features/\")\n",
    "assert response.status_code == 200\n",
    "assert \"features\" in response.json\n",
    "print(\"Number of features:\", len(response.json[\"features\"]))\n",
    "sample_feature = response.json['features'][0]\n",
    "\n",
    "response = client.get(\"/api/v1/features/\" + sample_feature[\"name\"] + \"/\")\n",
    "assert response.status_code == 200\n",
    "assert \"name\" in response.json\n",
    "print(\"Sample feature:\", response.json)\n",
    "\n",
    "response = client.get(\"/api/v1/categories/\")\n",
    "assert response.status_code == 200\n",
    "assert \"categories\" in response.json\n",
    "print(\"Sample category\", response.json[\"categories\"][0])"
   ]
  },
  {
   "cell_type": "code",
   "execution_count": 22,
   "metadata": {
    "collapsed": false,
    "pycharm": {
     "name": "#%%\n"
    }
   },
   "outputs": [
    {
     "name": "stdout",
     "output_type": "stream",
     "text": [
      "Number of models: 1\n",
      "Sample model: {'id': '64b6fa42f3b206d0c5598839', 'name': 'placeholder', 'description': 'placeholder', 'performance': 'placeholder'}\n",
      "Sample importance ('COUNT(scada)', 0.0)\n",
      "Sample prediction: {'output': 1}\n"
     ]
    }
   ],
   "source": [
    "# TEST MODEL APIs\n",
    "response = client.get(\"/api/v1/models/\")\n",
    "assert response.status_code == 200\n",
    "print(\"Number of models:\", len(response.json[\"models\"]))\n",
    "sample_model = response.json[\"models\"][0]\n",
    "model_id = sample_model[\"id\"]\n",
    "\n",
    "response = client.get(\"/api/v1/models/\" + model_id + \"/\")\n",
    "assert response.status_code == 200\n",
    "print(\"Sample model:\", response.json)\n",
    "\n",
    "response = client.get(\"/api/v1/importance/?model_id=\" + model_id)\n",
    "assert response.status_code == 200\n",
    "assert \"importances\" in response.json\n",
    "print(\"Sample importance\", next(iter(response.json[\"importances\"].items())))\n",
    "\n",
    "response = client.get(\"/api/v1/prediction/?model_id=\" + model_id + \"&eid=\" + eid)\n",
    "assert response.status_code == 200\n",
    "print(\"Sample prediction:\", response.json)\n",
    "prediction = response.json[\"output\"]"
   ]
  },
  {
   "cell_type": "code",
   "execution_count": 23,
   "metadata": {
    "collapsed": false,
    "pycharm": {
     "name": "#%%\n"
    }
   },
   "outputs": [
    {
     "name": "stdout",
     "output_type": "stream",
     "text": [
      "Sample contribution ('COUNT(scada)', 0.0)\n",
      "Sample modified prediction: {'prediction': 0}\n",
      "Sample changes: [['COUNT(scada)', 0], ['MAX(scada.WCNV_Torq_max)', 0]]\n"
     ]
    }
   ],
   "source": [
    "# TEST COMPUTING\n",
    "import pandas as pd\n",
    "\n",
    "response = client.post(\"/api/v1/contributions/\", json={\"eid\": eid, \"model_id\": model_id})\n",
    "assert response.status_code == 200\n",
    "assert \"contributions\" in response.json\n",
    "print(\"Sample contribution\", next(iter(response.json[\"contributions\"].items())))\n",
    "\n",
    "response = client.post(\"/api/v1/multi_contributions/\", json={\"eids\": eids, \"model_id\": model_id})\n",
    "assert response.status_code == 200\n",
    "assert \"contributions\" in response.json\n",
    "for eid in response.json[\"contributions\"]:\n",
    "    try:\n",
    "        pd.read_json(response.json[\"contributions\"][eid], orient=\"index\")\n",
    "    except Exception:\n",
    "        print(\"Error with multi-contributions - wrong format\")\n",
    "\n",
    "features_options = list(sample_entity[\"features\"].keys())\n",
    "changes = [(features_options[0], sample_entity[\"features\"][features_options[0]]),\n",
    "           (features_options[1], sample_entity[\"features\"][features_options[1]])]\n",
    "response = client.post(\"/api/v1/modified_prediction/\",json={\"eid\": eid, \"model_id\": model_id, \"changes\": changes})\n",
    "assert response.status_code == 200\n",
    "assert \"prediction\" in response.json\n",
    "print(\"Sample modified prediction:\", response.json)\n",
    "\n",
    "response = client.post(\"/api/v1/single_change_predictions/\", json={\"eid\": eid, \"model_id\": model_id, \"changes\": changes})\n",
    "assert response.status_code == 200\n",
    "assert \"changes\" in response.json\n",
    "print(\"Sample changes:\", response.json[\"changes\"])"
   ]
  },
  {
   "cell_type": "code",
   "execution_count": 24,
   "metadata": {
    "collapsed": false,
    "pycharm": {
     "name": "#%%\n"
    }
   },
   "outputs": [
    {
     "name": "stdout",
     "output_type": "stream",
     "text": [
      "Sample similar entity:\n",
      "      COUNT(scada)  MAX(scada.WCNV_Torq_max)  MAX(scada.WCNV_Torq_mean)  \\\n",
      "384             0                402.832765                 400.635769   \n",
      "349             0                402.832765                 400.635769   \n",
      "385             0                402.832765                 400.635769   \n",
      "\n",
      "     MAX(scada.WCNV_Torq_sd)  MAX(scada.WGEN_ClSt_max)  \\\n",
      "384                62.474973                  4.057511   \n",
      "349                62.474973                  4.057511   \n",
      "385                62.474973                  4.057511   \n",
      "\n",
      "     MAX(scada.WGEN_ClSt_mean)  MAX(scada.WGEN_ClSt_min)  \\\n",
      "384                   3.548899                  3.175252   \n",
      "349                   3.548899                  3.175252   \n",
      "385                   3.548899                  3.175252   \n",
      "\n",
      "     MAX(scada.WGEN_IntTmp_max)  MAX(scada.WGEN_IntTmp_mean)  \\\n",
      "384                   57.647153                    54.940089   \n",
      "349                   57.647153                    54.940089   \n",
      "385                   57.647153                    54.940089   \n",
      "\n",
      "     MAX(scada.WGEN_IntTmp_min)  ...  \\\n",
      "384                     54.0076  ...   \n",
      "349                     54.0076  ...   \n",
      "385                     54.0076  ...   \n",
      "\n",
      "     SUM(scada.WTRM_HySysPres1_max WHERE WGEN_W_bin = high)  \\\n",
      "384                                                  0        \n",
      "349                                                  0        \n",
      "385                                                  0        \n",
      "\n",
      "     SUM(scada.WTRM_HySysPres1_max WHERE WGEN_W_bin = medium-high)  \\\n",
      "384                                                  0               \n",
      "349                                                  0               \n",
      "385                                                  0               \n",
      "\n",
      "     SUM(scada.WTRM_HySysPres1_mean WHERE WGEN_W_bin = medium-low)  \\\n",
      "384                                                  0               \n",
      "349                                                  0               \n",
      "385                                                  0               \n",
      "\n",
      "     SUM(scada.WTRM_HySysPres1_mean WHERE WGEN_W_bin = low)  \\\n",
      "384                                                  0        \n",
      "349                                                  0        \n",
      "385                                                  0        \n",
      "\n",
      "     SUM(scada.WTRM_HySysPres1_mean WHERE WGEN_W_bin = high)  \\\n",
      "384                                                  0         \n",
      "349                                                  0         \n",
      "385                                                  0         \n",
      "\n",
      "     SUM(scada.WTRM_HySysPres1_mean WHERE WGEN_W_bin = medium-high)  \\\n",
      "384                                                  0                \n",
      "349                                                  0                \n",
      "385                                                  0                \n",
      "\n",
      "     SUM(scada.WTRM_HySysPres1_min WHERE WGEN_W_bin = medium-low)  \\\n",
      "384                                                  0              \n",
      "349                                                  0              \n",
      "385                                                  0              \n",
      "\n",
      "     SUM(scada.WTRM_HySysPres1_min WHERE WGEN_W_bin = low)  \\\n",
      "384                                                  0       \n",
      "349                                                  0       \n",
      "385                                                  0       \n",
      "\n",
      "     SUM(scada.WTRM_HySysPres1_min WHERE WGEN_W_bin = high)  \\\n",
      "384                                                  0        \n",
      "349                                                  0        \n",
      "385                                                  0        \n",
      "\n",
      "     SUM(scada.WTRM_HySysPres1_min WHERE WGEN_W_bin = medium-high)  \n",
      "384                                                  0              \n",
      "349                                                  0              \n",
      "385                                                  0              \n",
      "\n",
      "[3 rows x 1459 columns]\n",
      "     0\n",
      "384  1\n",
      "349  1\n",
      "385  1\n"
     ]
    }
   ],
   "source": [
    "# TEST COMPUTING - PART 2\n",
    "\n",
    "response = client.post(\"/api/v1/similar_entities/\", json={\"eids\": eids, \"model_id\": model_id})\n",
    "assert response.status_code == 200\n",
    "assert \"similar_entities\" in response.json\n",
    "print_flag = True\n",
    "for eid in response.json[\"similar_entities\"]:\n",
    "    assert \"X\" in response.json[\"similar_entities\"][eid]\n",
    "    try:\n",
    "        X = pd.read_json(response.json[\"similar_entities\"][eid][\"X\"], orient=\"index\").head()\n",
    "        if print_flag:\n",
    "            print(\"Sample similar entity:\\n\", X)\n",
    "    except Exception:\n",
    "        print(\"Error with similar entities - wrong X format\")\n",
    "    assert \"y\" in response.json[\"similar_entities\"][eid]\n",
    "    try:\n",
    "        y = pd.read_json(response.json[\"similar_entities\"][eid][\"y\"], orient=\"index\").head()\n",
    "        if print_flag:\n",
    "            print(y)\n",
    "            print_flag=False\n",
    "    except Exception:\n",
    "        print(\"Error with similar entities - wrong y format\")"
   ]
  },
  {
   "cell_type": "code",
   "execution_count": null,
   "metadata": {
    "collapsed": false,
    "pycharm": {
     "name": "#%%\n"
    }
   },
   "outputs": [],
   "source": []
  }
 ],
 "metadata": {
  "kernelspec": {
   "display_name": "Python 3",
   "language": "python",
   "name": "python3"
  },
  "language_info": {
   "codemirror_mode": {
    "name": "ipython",
    "version": 3
   },
   "file_extension": ".py",
   "mimetype": "text/x-python",
   "name": "python",
   "nbconvert_exporter": "python",
   "pygments_lexer": "ipython3",
   "version": "3.10.11"
  }
 },
 "nbformat": 4,
 "nbformat_minor": 0
}
