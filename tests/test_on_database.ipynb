{
 "cells": [
  {
   "cell_type": "code",
   "execution_count": 1,
   "metadata": {
    "collapsed": true,
    "ExecuteTime": {
     "end_time": "2024-01-08T20:59:59.163003500Z",
     "start_time": "2024-01-08T20:59:58.484024600Z"
    }
   },
   "outputs": [],
   "source": [
    "from sibyl.core import Sibyl\n",
    "from mongoengine import disconnect"
   ]
  },
  {
   "cell_type": "code",
   "execution_count": 2,
   "metadata": {
    "collapsed": false,
    "pycharm": {
     "name": "#%%\n"
    },
    "ExecuteTime": {
     "end_time": "2024-01-08T20:59:59.175623Z",
     "start_time": "2024-01-08T20:59:59.163003500Z"
    }
   },
   "outputs": [],
   "source": [
    "database = \"housing\""
   ]
  },
  {
   "cell_type": "code",
   "execution_count": 3,
   "metadata": {
    "collapsed": false,
    "pycharm": {
     "name": "#%%\n"
    },
    "ExecuteTime": {
     "end_time": "2024-01-08T20:59:59.208899100Z",
     "start_time": "2024-01-08T20:59:59.178898Z"
    }
   },
   "outputs": [],
   "source": [
    "disconnect()\n",
    "config = {\n",
    "    \"mongodb\": {\n",
    "        \"db\": database,\n",
    "        \"host\": \"localhost\",\n",
    "        \"port\": 27017,\n",
    "        \"username\": None,\n",
    "        \"password\": None,\n",
    "    },\n",
    "    \"log_filename\": \"test.csv\",\n",
    "    \"feature_distribution_location\": None,\n",
    "    \"flask\": {},\n",
    "}\n",
    "explorer = Sibyl(config, docker=False)\n",
    "app = explorer._init_flask_app(\"test\")\n",
    "client = app.test_client()"
   ]
  },
  {
   "cell_type": "code",
   "execution_count": 4,
   "metadata": {
    "collapsed": false,
    "pycharm": {
     "name": "#%%\n"
    },
    "ExecuteTime": {
     "end_time": "2024-01-08T20:59:59.442204600Z",
     "start_time": "2024-01-08T20:59:59.212903600Z"
    }
   },
   "outputs": [
    {
     "name": "stdout",
     "output_type": "stream",
     "text": [
      "Number of entities: 1456\n"
     ]
    }
   ],
   "source": [
    "# TEST ENTITY APIs\n",
    "eid = None\n",
    "\n",
    "response = client.get(\"/api/v1/entities/\")\n",
    "assert response.status_code == 200\n",
    "assert \"entities\" in response.json\n",
    "print(\"Number of entities:\", len(response.json[\"entities\"]))\n",
    "\n",
    "if eid is None:\n",
    "    eid = response.json[\"entities\"][0][\"eid\"]\n",
    "eids = [response.json[\"entities\"][i][\"eid\"] for i in range(0, 3)]\n",
    "\n",
    "response = client.get(\"/api/v1/entities/\" + eid + \"/\")\n",
    "assert response.status_code == 200\n",
    "assert response.json[\"eid\"] == eid\n",
    "assert \"features\" in response.json\n",
    "assert \"property\" in response.json\n",
    "sample_entity = response.json"
   ]
  },
  {
   "cell_type": "code",
   "execution_count": 5,
   "metadata": {
    "collapsed": false,
    "pycharm": {
     "name": "#%%\n"
    },
    "ExecuteTime": {
     "end_time": "2024-01-08T20:59:59.526968200Z",
     "start_time": "2024-01-08T20:59:59.445205600Z"
    }
   },
   "outputs": [
    {
     "name": "stdout",
     "output_type": "stream",
     "text": [
      "Number of features: 79\n",
      "Sample feature: {'name': 'MSSubClass', 'description': ' Identifies the type of dwelling involved in the sale.', 'type': 'categorical', 'category': 'general', 'values': ['20', '60', '70', '50', '190', '45', '90', '120', '30', '85', '80', '160', '75', '180', '40'], 'negated_description': None}\n",
      "Sample category {'name': 'size', 'color': None, 'abbreviation': None}\n"
     ]
    }
   ],
   "source": [
    "# TEST FEATURE APIs\n",
    "\n",
    "response = client.get(\"/api/v1/features/\")\n",
    "assert response.status_code == 200\n",
    "assert \"features\" in response.json\n",
    "sample_features = response.json[\"features\"]\n",
    "print(\"Number of features:\", len(sample_features))\n",
    "sample_feature = sample_features[0]\n",
    "\n",
    "response = client.get(\"/api/v1/features/\" + sample_feature[\"name\"] + \"/\")\n",
    "assert response.status_code == 200\n",
    "assert \"name\" in response.json\n",
    "print(\"Sample feature:\", response.json)\n",
    "\n",
    "response = client.get(\"/api/v1/categories/\")\n",
    "assert response.status_code == 200\n",
    "assert \"categories\" in response.json\n",
    "print(\"Sample category\", response.json[\"categories\"][0])"
   ]
  },
  {
   "cell_type": "code",
   "execution_count": 6,
   "metadata": {
    "collapsed": false,
    "pycharm": {
     "name": "#%%\n"
    },
    "ExecuteTime": {
     "end_time": "2024-01-08T21:00:00.753136900Z",
     "start_time": "2024-01-08T20:59:59.475248Z"
    }
   },
   "outputs": [
    {
     "name": "stdout",
     "output_type": "stream",
     "text": [
      "Number of models: 1\n",
      "Sample model: {'model_id': 'housing_model', 'description': '', 'performance': ''}\n",
      "Sample importance ('MSSubClass', 1783.8738895418035)\n"
     ]
    },
    {
     "name": "stderr",
     "output_type": "stream",
     "text": [
      "Using `tqdm.autonotebook.tqdm` in notebook mode. Use `tqdm.tqdm` instead to force console mode (e.g. in jupyter console)\n"
     ]
    },
    {
     "name": "stdout",
     "output_type": "stream",
     "text": [
      "Sample prediction: {'output': 157585.2499694067}\n"
     ]
    }
   ],
   "source": [
    "# TEST MODEL APIs\n",
    "response = client.get(\"/api/v1/models/\")\n",
    "assert response.status_code == 200\n",
    "print(\"Number of models:\", len(response.json[\"models\"]))\n",
    "sample_model = response.json[\"models\"][0]\n",
    "model_id = sample_model[\"model_id\"]\n",
    "\n",
    "response = client.get(\"/api/v1/models/\" + model_id + \"/\")\n",
    "assert response.status_code == 200\n",
    "print(\"Sample model:\", response.json)\n",
    "\n",
    "response = client.get(\"/api/v1/importance/?model_id=\" + model_id)\n",
    "assert response.status_code == 200\n",
    "assert \"importances\" in response.json\n",
    "print(\"Sample importance\", next(iter(response.json[\"importances\"].items())))\n",
    "\n",
    "response = client.get(\"/api/v1/prediction/?model_id=\" + model_id + \"&eid=\" + eid)\n",
    "assert response.status_code == 200\n",
    "print(\"Sample prediction:\", response.json)\n",
    "prediction = response.json[\"output\"]"
   ]
  },
  {
   "cell_type": "code",
   "execution_count": 7,
   "metadata": {
    "collapsed": false,
    "ExecuteTime": {
     "end_time": "2024-01-08T21:00:00.779351700Z",
     "start_time": "2024-01-08T21:00:00.752137400Z"
    }
   },
   "outputs": [
    {
     "name": "stdout",
     "output_type": "stream",
     "text": [
      "Sample context: {'context': {'context_id': 'context', 'config': {'output_preset': 'profit_usd', 'output_type': 'numeric', 'output_pos_label': None, 'output_neg_label': None, 'output_format_string': '${:,.2f}', 'output_sentiment_is_negative': False, 'terms': {'entity': 'House', 'feature': 'Factor', 'prediction': 'Sale Price', 'positive': 'Beneficial', 'negative': 'Detrimental'}}}}\n"
     ]
    }
   ],
   "source": [
    "# TEST CONTEXTS\n",
    "\n",
    "response = client.get(\"/api/v1/contexts/\")\n",
    "assert response.status_code == 200\n",
    "context_id = response.json[\"contexts\"][0][\"context_id\"]\n",
    "\n",
    "response = client.get(\"/api/v1/context/\" + context_id + \"/\")\n",
    "assert response.status_code == 200\n",
    "print(\"Sample context:\", response.json)"
   ]
  },
  {
   "cell_type": "code",
   "execution_count": 8,
   "metadata": {
    "collapsed": false,
    "pycharm": {
     "name": "#%%\n"
    },
    "ExecuteTime": {
     "end_time": "2024-01-08T21:00:00.994169400Z",
     "start_time": "2024-01-08T21:00:00.772188500Z"
    }
   },
   "outputs": [
    {
     "name": "stdout",
     "output_type": "stream",
     "text": [
      "Sample contribution ('MSSubClass', {'Feature Value': 20, 'Contribution': 1719.226755355572, 'Average/Mode': 20.0})\n",
      "Multi-contributions validated\n",
      "Sample modified prediction: {'prediction': 200785.20760564454}\n",
      "Sample predictions: [['MSSubClass', 200785.20760564454], ['MSZoning', 200785.20760564454]]\n"
     ]
    }
   ],
   "source": [
    "# TEST COMPUTING\n",
    "import pandas as pd\n",
    "\n",
    "response = client.post(\"/api/v1/contributions/\", json={\"eid\": eid, \"model_id\": model_id})\n",
    "assert response.status_code == 200\n",
    "assert \"result\" in response.json\n",
    "print(\"Sample contribution\", next(iter(response.json[\"result\"].items())))\n",
    "\n",
    "response = client.post(\"/api/v1/multi_contributions/\", json={\"eids\": eids, \"model_id\": model_id})\n",
    "assert response.status_code == 200\n",
    "assert \"contributions\" in response.json\n",
    "for eid in response.json[\"contributions\"]:\n",
    "    try:\n",
    "        contributions_df = pd.DataFrame.from_dict(\n",
    "            response.json[\"contributions\"][eid], orient=\"index\"\n",
    "        )\n",
    "        values_df = pd.DataFrame.from_dict(response.json[\"values\"][eid], orient=\"index\")\n",
    "    except Exception as e:\n",
    "        print(\"Error with multi-contributions - wrong format\")\n",
    "        raise e\n",
    "    assert contributions_df.shape == values_df.shape\n",
    "print(\"Multi-contributions validated\")\n",
    "\n",
    "row_ids = list(sample_entity[\"features\"].keys())\n",
    "\n",
    "changes = {\n",
    "    sample_features[0][\"name\"]: sample_entity[\"features\"][row_ids[0]][sample_features[0][\"name\"]],\n",
    "    sample_features[1][\"name\"]: sample_entity[\"features\"][row_ids[0]][sample_features[1][\"name\"]],\n",
    "}\n",
    "response = client.post(\n",
    "    \"/api/v1/modified_prediction/\", json={\"eid\": eid, \"model_id\": model_id, \"changes\": changes}\n",
    ")\n",
    "assert response.status_code == 200\n",
    "assert \"prediction\" in response.json\n",
    "print(\"Sample modified prediction:\", response.json)\n",
    "\n",
    "response = client.post(\n",
    "    \"/api/v1/single_change_predictions/\",\n",
    "    json={\"eid\": eid, \"model_id\": model_id, \"changes\": changes},\n",
    ")\n",
    "assert response.status_code == 200\n",
    "assert \"predictions\" in response.json\n",
    "print(\"Sample predictions:\", response.json[\"predictions\"])"
   ]
  },
  {
   "cell_type": "code",
   "execution_count": 9,
   "metadata": {
    "collapsed": false,
    "pycharm": {
     "name": "#%%\n"
    },
    "ExecuteTime": {
     "end_time": "2024-01-08T21:00:01.361506600Z",
     "start_time": "2024-01-08T21:00:00.989167200Z"
    }
   },
   "outputs": [
    {
     "name": "stdout",
     "output_type": "stream",
     "text": [
      "Sample contribution object:\n",
      " 0    1719.226755\n",
      "Name: MSSubClass, dtype: float64\n",
      "Sample similar entity:\n",
      "       MSSubClass MSZoning  LotFrontage  LotArea Street Alley LotShape  \\\n",
      "0             20       RL         75.0     9937   Pave  None      Reg   \n",
      "1100          20       RL         61.0     9758   Pave  None      IR1   \n",
      "1257          20       RL         65.0     9750   Pave  None      Reg   \n",
      "\n",
      "     LandContour Utilities LotConfig  ... ScreenPorch PoolArea PoolQC Fence  \\\n",
      "0            Lvl    AllPub    Inside  ...           0        0   None  None   \n",
      "1100         Lvl    AllPub    Inside  ...           0        0   None  None   \n",
      "1257         Lvl    AllPub       FR2  ...          80        0   None  None   \n",
      "\n",
      "     MiscFeature MiscVal  MoSold  YrSold  SaleType  SaleCondition  \n",
      "0           None       0       6    2008        WD         Normal  \n",
      "1100        None       0       7    2007        WD         Normal  \n",
      "1257        None       0       7    2008        WD         Normal  \n",
      "\n",
      "[3 rows x 79 columns]\n",
      "y:\n",
      " 0       147500\n",
      "1100    119500\n",
      "1257    151000\n",
      "dtype: int64\n",
      "Input row:\n",
      " MSSubClass       20\n",
      "MSZoning         RL\n",
      "LotFrontage    75.0\n",
      "LotArea        9937\n",
      "Street         Pave\n",
      "dtype: object\n"
     ]
    }
   ],
   "source": [
    "# TEST COMPUTING - PART 2\n",
    "response = client.post(\n",
    "    \"/api/v1/modified_contribution/\",\n",
    "    json={\"eid\": eid, \"model_id\": model_id, \"changes\": changes},\n",
    ")\n",
    "assert response.status_code == 200\n",
    "assert \"contributions\" in response.json\n",
    "assert \"values\" in response.json\n",
    "try:\n",
    "    contribution_df = pd.DataFrame.from_dict(response.json[\"contributions\"], orient=\"index\")\n",
    "    print(\"Sample contribution object:\\n\", contribution_df[contribution_df.columns[0]])\n",
    "    value_df = pd.DataFrame.from_dict(response.json[\"values\"], orient=\"index\")\n",
    "except Exception as e:\n",
    "    print(\"Error with modified-contributions - wrong format\")\n",
    "    raise e\n",
    "assert contribution_df.shape == value_df.shape\n",
    "\n",
    "response = client.post(\"/api/v1/similar_entities/\", json={\"eids\": eids, \"model_id\": model_id})\n",
    "assert response.status_code == 200\n",
    "assert \"similar_entities\" in response.json\n",
    "print_flag = True\n",
    "for eid in response.json[\"similar_entities\"]:\n",
    "    assert \"X\" in response.json[\"similar_entities\"][eid]\n",
    "    try:\n",
    "        X = pd.DataFrame.from_dict(\n",
    "            response.json[\"similar_entities\"][eid][\"X\"], orient=\"index\"\n",
    "        ).head()\n",
    "        if print_flag:\n",
    "            print(\"Sample similar entity:\\n\", X)\n",
    "    except Exception as e:\n",
    "        print(\"Error with similar entities - wrong X format\")\n",
    "        raise e\n",
    "    assert \"y\" in response.json[\"similar_entities\"][eid]\n",
    "    try:\n",
    "        y = pd.Series(response.json[\"similar_entities\"][eid][\"y\"]).head()\n",
    "        if print_flag:\n",
    "            print(\"y:\\n\", y)\n",
    "    except Exception as e:\n",
    "        print(\"Error with similar entities - wrong y format\")\n",
    "        raise e\n",
    "    try:\n",
    "        input = pd.Series(response.json[\"similar_entities\"][eid][\"Input\"]).head()\n",
    "        if print_flag:\n",
    "            print(\"Input row:\\n\", input)\n",
    "            print_flag = False\n",
    "    except Exception as e:\n",
    "        print(\"Error with similar entities - wrong input format\")\n",
    "        raise e"
   ]
  },
  {
   "cell_type": "code",
   "execution_count": 9,
   "metadata": {
    "collapsed": false,
    "ExecuteTime": {
     "end_time": "2024-01-08T21:00:01.377027400Z",
     "start_time": "2024-01-08T21:00:01.363506Z"
    }
   },
   "outputs": [],
   "source": []
  }
 ],
 "metadata": {
  "kernelspec": {
   "display_name": "Python 3",
   "language": "python",
   "name": "python3"
  },
  "language_info": {
   "codemirror_mode": {
    "name": "ipython",
    "version": 3
   },
   "file_extension": ".py",
   "mimetype": "text/x-python",
   "name": "python",
   "nbconvert_exporter": "python",
   "pygments_lexer": "ipython3",
   "version": "3.11.4"
  }
 },
 "nbformat": 4,
 "nbformat_minor": 0
}
